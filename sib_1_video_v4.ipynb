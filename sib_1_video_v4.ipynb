{
  "nbformat": 4,
  "nbformat_minor": 0,
  "metadata": {
    "colab": {
      "provenance": [],
      "gpuType": "T4"
    },
    "kernelspec": {
      "name": "python3",
      "display_name": "Python 3"
    },
    "language_info": {
      "name": "python"
    },
    "accelerator": "GPU"
  },
  "cells": [
    {
      "cell_type": "code",
      "execution_count": 1,
      "metadata": {
        "colab": {
          "base_uri": "https://localhost:8080/"
        },
        "id": "1rabBZIQEOK3",
        "outputId": "c04adf00-aeab-4abc-9ba8-ecdef6a4e306"
      },
      "outputs": [
        {
          "output_type": "stream",
          "name": "stdout",
          "text": [
            "Requirement already satisfied: transformers==4.28.0 in /usr/local/lib/python3.10/dist-packages (4.28.0)\n",
            "Requirement already satisfied: filelock in /usr/local/lib/python3.10/dist-packages (from transformers==4.28.0) (3.13.1)\n",
            "Requirement already satisfied: huggingface-hub<1.0,>=0.11.0 in /usr/local/lib/python3.10/dist-packages (from transformers==4.28.0) (0.19.4)\n",
            "Requirement already satisfied: numpy>=1.17 in /usr/local/lib/python3.10/dist-packages (from transformers==4.28.0) (1.23.5)\n",
            "Requirement already satisfied: packaging>=20.0 in /usr/local/lib/python3.10/dist-packages (from transformers==4.28.0) (23.2)\n",
            "Requirement already satisfied: pyyaml>=5.1 in /usr/local/lib/python3.10/dist-packages (from transformers==4.28.0) (6.0.1)\n",
            "Requirement already satisfied: regex!=2019.12.17 in /usr/local/lib/python3.10/dist-packages (from transformers==4.28.0) (2023.6.3)\n",
            "Requirement already satisfied: requests in /usr/local/lib/python3.10/dist-packages (from transformers==4.28.0) (2.31.0)\n",
            "Requirement already satisfied: tokenizers!=0.11.3,<0.14,>=0.11.1 in /usr/local/lib/python3.10/dist-packages (from transformers==4.28.0) (0.13.3)\n",
            "Requirement already satisfied: tqdm>=4.27 in /usr/local/lib/python3.10/dist-packages (from transformers==4.28.0) (4.66.1)\n",
            "Requirement already satisfied: fsspec>=2023.5.0 in /usr/local/lib/python3.10/dist-packages (from huggingface-hub<1.0,>=0.11.0->transformers==4.28.0) (2023.6.0)\n",
            "Requirement already satisfied: typing-extensions>=3.7.4.3 in /usr/local/lib/python3.10/dist-packages (from huggingface-hub<1.0,>=0.11.0->transformers==4.28.0) (4.5.0)\n",
            "Requirement already satisfied: charset-normalizer<4,>=2 in /usr/local/lib/python3.10/dist-packages (from requests->transformers==4.28.0) (3.3.2)\n",
            "Requirement already satisfied: idna<4,>=2.5 in /usr/local/lib/python3.10/dist-packages (from requests->transformers==4.28.0) (3.6)\n",
            "Requirement already satisfied: urllib3<3,>=1.21.1 in /usr/local/lib/python3.10/dist-packages (from requests->transformers==4.28.0) (2.0.7)\n",
            "Requirement already satisfied: certifi>=2017.4.17 in /usr/local/lib/python3.10/dist-packages (from requests->transformers==4.28.0) (2023.11.17)\n"
          ]
        }
      ],
      "source": [
        "pip install transformers==4.28.0"
      ]
    },
    {
      "cell_type": "code",
      "source": [
        "pip install torchmetrics"
      ],
      "metadata": {
        "id": "p2ejyw59vUOA",
        "colab": {
          "base_uri": "https://localhost:8080/"
        },
        "outputId": "f92bf91d-7cd5-4a25-c77e-030c4df39b17"
      },
      "execution_count": 2,
      "outputs": [
        {
          "output_type": "stream",
          "name": "stdout",
          "text": [
            "Requirement already satisfied: torchmetrics in /usr/local/lib/python3.10/dist-packages (1.2.1)\n",
            "Requirement already satisfied: numpy>1.20.0 in /usr/local/lib/python3.10/dist-packages (from torchmetrics) (1.23.5)\n",
            "Requirement already satisfied: packaging>17.1 in /usr/local/lib/python3.10/dist-packages (from torchmetrics) (23.2)\n",
            "Requirement already satisfied: torch>=1.8.1 in /usr/local/lib/python3.10/dist-packages (from torchmetrics) (2.1.0+cu121)\n",
            "Requirement already satisfied: lightning-utilities>=0.8.0 in /usr/local/lib/python3.10/dist-packages (from torchmetrics) (0.10.0)\n",
            "Requirement already satisfied: setuptools in /usr/local/lib/python3.10/dist-packages (from lightning-utilities>=0.8.0->torchmetrics) (67.7.2)\n",
            "Requirement already satisfied: typing-extensions in /usr/local/lib/python3.10/dist-packages (from lightning-utilities>=0.8.0->torchmetrics) (4.5.0)\n",
            "Requirement already satisfied: filelock in /usr/local/lib/python3.10/dist-packages (from torch>=1.8.1->torchmetrics) (3.13.1)\n",
            "Requirement already satisfied: sympy in /usr/local/lib/python3.10/dist-packages (from torch>=1.8.1->torchmetrics) (1.12)\n",
            "Requirement already satisfied: networkx in /usr/local/lib/python3.10/dist-packages (from torch>=1.8.1->torchmetrics) (3.2.1)\n",
            "Requirement already satisfied: jinja2 in /usr/local/lib/python3.10/dist-packages (from torch>=1.8.1->torchmetrics) (3.1.2)\n",
            "Requirement already satisfied: fsspec in /usr/local/lib/python3.10/dist-packages (from torch>=1.8.1->torchmetrics) (2023.6.0)\n",
            "Requirement already satisfied: triton==2.1.0 in /usr/local/lib/python3.10/dist-packages (from torch>=1.8.1->torchmetrics) (2.1.0)\n",
            "Requirement already satisfied: MarkupSafe>=2.0 in /usr/local/lib/python3.10/dist-packages (from jinja2->torch>=1.8.1->torchmetrics) (2.1.3)\n",
            "Requirement already satisfied: mpmath>=0.19 in /usr/local/lib/python3.10/dist-packages (from sympy->torch>=1.8.1->torchmetrics) (1.3.0)\n"
          ]
        }
      ]
    },
    {
      "cell_type": "markdown",
      "source": [
        "# Библиотеки"
      ],
      "metadata": {
        "id": "9f1fUzF22_cj"
      }
    },
    {
      "cell_type": "code",
      "source": [
        "# Визуализации\n",
        "from matplotlib import pyplot as plt\n",
        "import seaborn as sns"
      ],
      "metadata": {
        "id": "j8YVdk8fjwIk"
      },
      "execution_count": 3,
      "outputs": []
    },
    {
      "cell_type": "code",
      "source": [
        "# Общеe\n",
        "import random\n",
        "import time\n",
        "import os\n",
        "import copy\n",
        "import pathlib\n",
        "import numpy as np\n",
        "import pandas as pd\n",
        "\n",
        "from tqdm import tqdm"
      ],
      "metadata": {
        "id": "iSJ32nxHEOk_"
      },
      "execution_count": 4,
      "outputs": []
    },
    {
      "cell_type": "code",
      "source": [
        "# Модель\n",
        "import cv2\n",
        "import torch\n",
        "from transformers import AutoImageProcessor, TimesformerForVideoClassification\n",
        "from transformers import VideoMAEImageProcessor, VideoMAEForVideoClassification\n",
        "from transformers import Trainer, TrainingArguments\n",
        "from transformers import get_linear_schedule_with_warmup, get_constant_schedule_with_warmup\n",
        "from torchvision import models, transforms\n",
        "from torchmetrics import F1Score\n",
        "from sklearn.model_selection import train_test_split\n",
        "import torch.nn as nn\n",
        "import torch.optim as optim\n",
        "from torch.optim import lr_scheduler"
      ],
      "metadata": {
        "id": "fuN_dFv7FLPt"
      },
      "execution_count": 5,
      "outputs": []
    },
    {
      "cell_type": "code",
      "source": [
        "from torchvision.io.video import read_video\n",
        "from torchvision.models.video import r3d_18, R3D_18_Weights\n",
        "from torchvision.models.video import mvit_v2_s, MViT_V2_S_Weights\n",
        "from torchvision.models.video import R2Plus1D_18_Weights, r2plus1d_18\n",
        "from torchvision.models.video import S3D_Weights, s3d"
      ],
      "metadata": {
        "id": "f6P1uOH9rLZo"
      },
      "execution_count": 6,
      "outputs": []
    },
    {
      "cell_type": "code",
      "source": [
        "import zipfile\n",
        "from google.colab import drive\n",
        "drive.mount('/content/drive/')\n",
        "\n",
        "zip_ref = zipfile.ZipFile(\"/content/drive/MyDrive/train.zip\", 'r')\n",
        "zip_ref.extractall(\"/tmp/train\")\n",
        "zip_ref.close()"
      ],
      "metadata": {
        "colab": {
          "base_uri": "https://localhost:8080/"
        },
        "id": "Z4yRaQJEEdhE",
        "outputId": "de2d2338-bf97-4d7c-f3f3-b39569833426"
      },
      "execution_count": 7,
      "outputs": [
        {
          "output_type": "stream",
          "name": "stdout",
          "text": [
            "Drive already mounted at /content/drive/; to attempt to forcibly remount, call drive.mount(\"/content/drive/\", force_remount=True).\n"
          ]
        }
      ]
    },
    {
      "cell_type": "code",
      "source": [],
      "metadata": {
        "id": "9SZp2ByNLlfE"
      },
      "execution_count": null,
      "outputs": []
    },
    {
      "cell_type": "markdown",
      "source": [
        "# Модель"
      ],
      "metadata": {
        "id": "RNM8Qc5JJHze"
      }
    },
    {
      "cell_type": "code",
      "source": [
        "model_type = 'torch' # torch / transformers\n",
        "model_name = 's3d'"
      ],
      "metadata": {
        "id": "5fA_A_AdrniL"
      },
      "execution_count": 8,
      "outputs": []
    },
    {
      "cell_type": "code",
      "source": [
        "if model_type == 'torch':\n",
        "    if model_name == 'r3d_18':\n",
        "        weights = R3D_18_Weights.DEFAULT\n",
        "        model = r3d_18(weights=weights)\n",
        "        processor = weights.transforms()\n",
        "        num_ftrs = model.fc.in_features\n",
        "        model.fc = nn.Linear(in_features=num_ftrs, out_features=4)\n",
        "    if model_name == 'mvit_v2_s':\n",
        "        weights = MViT_V2_S_Weights.DEFAULT\n",
        "        model = mvit_v2_s(weights=weights)\n",
        "        processor = weights.transforms()\n",
        "        num_ftrs = model.head[1].in_features\n",
        "        model.head[1] = nn.Linear(in_features=num_ftrs, out_features=4)\n",
        "    if model_name == 'r2plus1d_18':\n",
        "        weights = R2Plus1D_18_Weights.DEFAULT\n",
        "        model = r2plus1d_18(weights=weights)\n",
        "        processor = weights.transforms()\n",
        "        num_ftrs = model.fc.in_features\n",
        "        model.fc = nn.Linear(in_features=num_ftrs, out_features=4)\n",
        "    if model_name == 's3d':\n",
        "        weights = S3D_Weights.DEFAULT\n",
        "        model = s3d(weights=weights)\n",
        "        processor = weights.transforms()\n",
        "        model.classifier[1] = torch.nn.Conv3d(model.classifier[1].in_channels, 4, kernel_size=model.classifier[1].kernel_size, stride=model.classifier[1].stride)\n",
        "    n_frames_count = 16 # 16\n",
        "if model_type == 'transformers':\n",
        "    if model_name == 'videomae-base-finetuned-kinetics':\n",
        "        processor = VideoMAEImageProcessor.from_pretrained(\"MCG-NJU/videomae-base-finetuned-kinetics\")\n",
        "        model = VideoMAEForVideoClassification.from_pretrained(\"MCG-NJU/videomae-base-finetuned-kinetics\",\n",
        "                                                                num_labels=4,\n",
        "                                                                ignore_mismatched_sizes=True)\n",
        "    n_frames_count = 16"
      ],
      "metadata": {
        "id": "yV-tN-59rMMk"
      },
      "execution_count": 9,
      "outputs": []
    },
    {
      "cell_type": "code",
      "source": [],
      "metadata": {
        "id": "7GJ5GaAq3DQl"
      },
      "execution_count": null,
      "outputs": []
    },
    {
      "cell_type": "markdown",
      "source": [
        "# Данные"
      ],
      "metadata": {
        "id": "F_VWlohj3ECf"
      }
    },
    {
      "cell_type": "code",
      "source": [
        "colab = True\n",
        "train_size = 0.95\n",
        "batch_size = 16"
      ],
      "metadata": {
        "id": "gK_e1hi4bx37"
      },
      "execution_count": 10,
      "outputs": []
    },
    {
      "cell_type": "code",
      "source": [
        "DATA_DIR = pathlib.Path(\"../tmp\")\n",
        "CLASSES = [\"bridge_down\", \"bridge_up\", \"no_action\", \"train_in_out\"]\n",
        "\n",
        "clips_data = sum([list(DATA_DIR.joinpath(\"train\", c).glob(\"*.mp4\")) for c in CLASSES], [])\n",
        "clips_data = pd.DataFrame([clip.parts[-2:] for clip in clips_data], columns=[\"label\", \"fname\"])\n",
        "\n",
        "clips_data['label_int'] = 0\n",
        "class_name_to_int = {'bridge_down': 0, 'bridge_up': 1, 'no_action': 2, 'train_in_out': 3}\n",
        "clips_data.label_int = clips_data.label.apply(lambda x: class_name_to_int[x])\n",
        "clips_data.label_int.unique()"
      ],
      "metadata": {
        "colab": {
          "base_uri": "https://localhost:8080/"
        },
        "id": "qMVXyt0MEw7j",
        "outputId": "ca2fcfea-2450-4ca6-b9b9-4e04d3875b01"
      },
      "execution_count": 11,
      "outputs": [
        {
          "output_type": "execute_result",
          "data": {
            "text/plain": [
              "array([0, 1, 2, 3])"
            ]
          },
          "metadata": {},
          "execution_count": 11
        }
      ]
    },
    {
      "cell_type": "code",
      "source": [],
      "metadata": {
        "id": "KfsY2uLC3Gvs"
      },
      "execution_count": null,
      "outputs": []
    },
    {
      "cell_type": "markdown",
      "source": [
        "# Признаки"
      ],
      "metadata": {
        "id": "sr0JlHHW3Hqb"
      }
    },
    {
      "cell_type": "code",
      "source": [
        "def read_clip(odir, fname: str, start: int = 0, transposed: bool = True,\n",
        "              augm=False):\n",
        "    \"\"\"Прочесть ролик в массив.\"\"\"\n",
        "\n",
        "    cpr = cv2.VideoCapture(odir.joinpath(fname).as_posix())\n",
        "    has_frame = True\n",
        "    frames = []\n",
        "\n",
        "    while has_frame:\n",
        "        has_frame, frame = cpr.read()\n",
        "        if has_frame:\n",
        "            frame = cv2.cvtColor(frame, cv2.COLOR_BGR2RGB)\n",
        "            if transposed:\n",
        "                frame = np.moveaxis(frame, -1, 0).copy()\n",
        "\n",
        "            frames.append(frame)\n",
        "    # print(len(frames))\n",
        "    n_frames = n_frames_count # сколько кадров сохранить с клипа\n",
        "\n",
        "    if augm:\n",
        "      if len(frames) > 200:\n",
        "        n_drop_frames = random.randint(1, 50)\n",
        "        len_drop_frames = round(50 / n_drop_frames)\n",
        "        for _ in range(0, n_drop_frames):\n",
        "            position = random.randint(0, len(frames))\n",
        "            del frames[position:position + len_drop_frames]\n",
        "        # print(len(frames))\n",
        "\n",
        "    if n_frames > len(frames):\n",
        "      while True:\n",
        "        frames.append(frames[:-1][0])\n",
        "        if len(frames) == n_frames:\n",
        "          break\n",
        "    else:\n",
        "        frames = frames[0:len(frames):round(len(frames) / n_frames)]\n",
        "        if len(frames) == n_frames + 1:\n",
        "          frames = frames[:-1]\n",
        "        if len(frames) == n_frames - 1:\n",
        "          frames.append(frames[:-1][0])\n",
        "        cpr.release()\n",
        "    return np.array(frames)[start:]"
      ],
      "metadata": {
        "id": "iP-9_Gl1EdkN"
      },
      "execution_count": 12,
      "outputs": []
    },
    {
      "cell_type": "code",
      "source": [],
      "metadata": {
        "id": "fjbDOXVG1RGP"
      },
      "execution_count": null,
      "outputs": []
    },
    {
      "cell_type": "markdown",
      "source": [
        "## аугментация"
      ],
      "metadata": {
        "id": "ycxeYRAj1Rh1"
      }
    },
    {
      "cell_type": "code",
      "source": [
        "data_transforms = transforms.Compose([\n",
        "        transforms.Resize(256),\n",
        "        transforms.CenterCrop(224)])"
      ],
      "metadata": {
        "id": "eVFJ2CYNGr-M"
      },
      "execution_count": 13,
      "outputs": []
    },
    {
      "cell_type": "code",
      "source": [
        "data_transforms_1 =transforms.Compose([\n",
        "            transforms.RandomHorizontalFlip()]) #отображение, ось - вертикаль\n",
        "\n",
        "data_transforms_2 =transforms.Compose([\n",
        "            transforms.RandomRotation(degrees=(-20, 20))]) # повороты\n",
        "\n",
        "data_transforms_3 =transforms.Compose([\n",
        "            transforms.ColorJitter(brightness=.8, hue=.5)]) # яркость, цвет\n",
        "\n",
        "data_transforms_4 =transforms.Compose([\n",
        "            transforms.RandomAutocontrast()]) #контрастность\n",
        "\n",
        "data_transforms_random = [data_transforms_1, data_transforms_2, data_transforms_3, data_transforms_4]\n",
        "\n",
        "# рандомная встроенная\n",
        "data_transforms_random_native = transforms.Compose([\n",
        "            transforms.RandAugment()])\n",
        "\n",
        "# авто встроенная\n",
        "policies = [transforms.AutoAugmentPolicy.CIFAR10, transforms.AutoAugmentPolicy.IMAGENET, transforms.AutoAugmentPolicy.SVHN]\n",
        "data_transforms_auto_native = transforms.Compose([\n",
        "            transforms.AutoAugment(policies[1])])"
      ],
      "metadata": {
        "id": "Cg1hUqewSDN5"
      },
      "execution_count": 14,
      "outputs": []
    },
    {
      "cell_type": "code",
      "source": [
        "augm_image = True\n",
        "augm_image_type = 'rand' # rand / 'rand_native' / 'auto_native'\n",
        "augm_len = True"
      ],
      "metadata": {
        "id": "RwaA6TQr0nis"
      },
      "execution_count": 15,
      "outputs": []
    },
    {
      "cell_type": "code",
      "source": [
        "# 0 - исходное видео\n",
        "# 1 - augm_image\n",
        "# 2 - augm_len"
      ],
      "metadata": {
        "id": "Ig-dQqgI_ffa"
      },
      "execution_count": 20,
      "outputs": []
    },
    {
      "cell_type": "code",
      "source": [
        "x, y = [], []\n",
        "for index, row in tqdm(clips_data.iterrows()):\n",
        "    num_mode = random.randint(0, 2)\n",
        "    # num_mode = 2\n",
        "    clip = read_clip(DATA_DIR.joinpath(\"train\", row['label']), row['fname'], transposed=True) # клип - несколько изображений\n",
        "    if num_mode == 0:\n",
        "      if model_type == 'transformers':\n",
        "          clip = [torch.Tensor(image) for image in clip]\n",
        "          inputs = processor(clip, return_tensors=\"pt\")\n",
        "          x.append(inputs)\n",
        "      if model_type == 'torch':\n",
        "          inputs = processor(torch.Tensor(clip)).unsqueeze(0)\n",
        "          x.append(inputs[0])\n",
        "      y.append(row['label_int'])\n",
        "    if augm_len and num_mode == 2:\n",
        "        clip_new = read_clip(DATA_DIR.joinpath(\"train\", row['label']), row['fname'], transposed=True, augm=True) # клип - несколько изображений\n",
        "        if model_type == 'torch':\n",
        "            inputs = processor(torch.Tensor(clip_new)).unsqueeze(0)\n",
        "            x.append(inputs[0])\n",
        "        y.append(row['label_int'])\n",
        "    if augm_image and num_mode == 1: # and index % 3 == 0: # num_mode == 1:\n",
        "        if augm_image_type == 'rand':\n",
        "            if model_type == 'torch':\n",
        "                i = random.randint(0, len(data_transforms_random) - 1)\n",
        "                clip = np.array([data_transforms_random[i](torch.Tensor(image)).numpy() for image in clip])\n",
        "                inputs = processor(torch.Tensor(clip)).unsqueeze(0)\n",
        "                x.append(inputs[0])\n",
        "                y.append(row['label_int'])\n",
        "        if augm_image_type in ['rand_native', 'auto_native']:\n",
        "            if model_type == 'torch':\n",
        "                i = random.randint(0, len(data_transforms_random) - 1)\n",
        "                clip_new = []\n",
        "                for image in clip:\n",
        "                    img = torch.clip(torch.Tensor(image), 0.0, 255.0)\n",
        "                    img = img.type(torch.uint8)\n",
        "                    if augm_image_type == 'rand_native':\n",
        "                        img_new = data_transforms(data_transforms_random_native(img))\n",
        "                    elif augm_image_type == 'auto_native':\n",
        "                        img_new = data_transforms(data_transforms_auto_native(img))\n",
        "                    clip_new.append(img_new.numpy())\n",
        "                clip = np.array(clip_new)\n",
        "                inputs = processor(torch.Tensor(clip)).unsqueeze(0)\n",
        "                x.append(inputs[0])\n",
        "                y.append(row['label_int'])"
      ],
      "metadata": {
        "id": "h8438QmFEdmy",
        "colab": {
          "base_uri": "https://localhost:8080/"
        },
        "outputId": "fc868feb-964e-4c5b-89cc-2a89ddae1fdd"
      },
      "execution_count": 16,
      "outputs": [
        {
          "output_type": "stream",
          "name": "stderr",
          "text": [
            "496it [02:34,  3.20it/s]\n"
          ]
        }
      ]
    },
    {
      "cell_type": "code",
      "source": [
        "for x_ in x:\n",
        "  if x_.shape  != (3, 16, 224, 224):\n",
        "    print('da')"
      ],
      "metadata": {
        "id": "5wCD8dtJ0ihE"
      },
      "execution_count": 17,
      "outputs": []
    },
    {
      "cell_type": "code",
      "source": [
        "x = np.array(x)\n",
        "y = np.array(y)"
      ],
      "metadata": {
        "id": "XJuM72BYXVOF"
      },
      "execution_count": 20,
      "outputs": []
    },
    {
      "cell_type": "code",
      "source": [
        "if model_type == 'transformers':\n",
        "  for x_ in x:\n",
        "    x_['pixel_values'] = x_['pixel_values'][0]\n",
        "  print(x[0]['pixel_values'].shape)"
      ],
      "metadata": {
        "colab": {
          "base_uri": "https://localhost:8080/"
        },
        "id": "8h5m35xR5UAl",
        "outputId": "346ceacf-b219-4e8f-b855-0698f89a2f16"
      },
      "execution_count": null,
      "outputs": [
        {
          "output_type": "stream",
          "name": "stdout",
          "text": [
            "torch.Size([16, 3, 224, 224])\n"
          ]
        }
      ]
    },
    {
      "cell_type": "code",
      "source": [],
      "metadata": {
        "id": "TRBsr155L7U3"
      },
      "execution_count": null,
      "outputs": []
    },
    {
      "cell_type": "markdown",
      "metadata": {
        "id": "0faee21e-3ee9-491b-ae26-91cf2d4bfece"
      },
      "source": [
        "## сохранение"
      ]
    },
    {
      "cell_type": "code",
      "source": [
        "import pickle"
      ],
      "metadata": {
        "id": "M4Qs8vo38WEl"
      },
      "execution_count": null,
      "outputs": []
    },
    {
      "cell_type": "code",
      "source": [
        "with open('x.pkl', 'wb') as f:\n",
        "  pickle.dump(x, f)"
      ],
      "metadata": {
        "id": "WCB-LP928Yu6"
      },
      "execution_count": null,
      "outputs": []
    },
    {
      "cell_type": "code",
      "source": [
        "with open('y.pkl', 'wb') as f:\n",
        "  pickle.dump(y, f)"
      ],
      "metadata": {
        "id": "ApdVQsjA9JHd"
      },
      "execution_count": null,
      "outputs": []
    },
    {
      "cell_type": "code",
      "source": [
        "with open('x.pkl', 'rb') as f:\n",
        "  x = pickle.load(f)\n",
        "with open('y.pkl', 'rb') as f:\n",
        "  y = pickle.load(f)"
      ],
      "metadata": {
        "id": "JesSUEFd8YzW"
      },
      "execution_count": null,
      "outputs": []
    },
    {
      "cell_type": "code",
      "source": [],
      "metadata": {
        "id": "nD3AwmR9FUEd"
      },
      "execution_count": null,
      "outputs": []
    },
    {
      "cell_type": "markdown",
      "metadata": {
        "id": "wG6_coN8MAJZ"
      },
      "source": [
        "## дисбаланс классов"
      ]
    },
    {
      "cell_type": "markdown",
      "source": [
        "### если добавлять"
      ],
      "metadata": {
        "id": "D3ywYuMWdNAB"
      }
    },
    {
      "cell_type": "code",
      "execution_count": 21,
      "metadata": {
        "colab": {
          "base_uri": "https://localhost:8080/"
        },
        "outputId": "6be13b8a-93de-4922-a2bd-e0052333143b",
        "id": "30MKQog7BFJs"
      },
      "outputs": [
        {
          "output_type": "execute_result",
          "data": {
            "text/plain": [
              "(306, 75, 49, 66)"
            ]
          },
          "metadata": {},
          "execution_count": 21
        }
      ],
      "source": [
        "y.tolist().count(0), y.tolist().count(1), y.tolist().count(2), y.tolist().count(3)"
      ]
    },
    {
      "cell_type": "code",
      "source": [
        "balance_under = True\n",
        "if balance_under:\n",
        "    k = round((y.tolist().count(0) + y.tolist().count(1) + y.tolist().count(2) + y.tolist().count(3)) / 4)\n",
        "    # k = max(y.tolist().count(0), y.tolist().count(1), y.tolist().count(2), y.tolist().count(3)) - 1\n",
        "    print(f'k = {k}')\n",
        "else:\n",
        "    k = 0\n",
        "index_0 = random.choices(np.where(y == 0)[0], k=k) if k > y.tolist().count(0) else np.where(y == 0)[0].tolist()\n",
        "index_1 = random.choices(np.where(y == 1)[0], k=k) if k > y.tolist().count(1) else np.where(y == 1)[0].tolist()\n",
        "index_2 = random.choices(np.where(y == 2)[0], k=k) if k > y.tolist().count(2) else np.where(y == 2)[0].tolist()\n",
        "index_3 = random.choices(np.where(y == 3)[0], k=k) if k > y.tolist().count(3) else np.where(y == 3)[0].tolist()"
      ],
      "metadata": {
        "colab": {
          "base_uri": "https://localhost:8080/"
        },
        "id": "yy1vUOy9U3Ss",
        "outputId": "0dd937da-6f28-4528-a71b-f8f25aa414f0"
      },
      "execution_count": 22,
      "outputs": [
        {
          "output_type": "stream",
          "name": "stdout",
          "text": [
            "k = 124\n"
          ]
        }
      ]
    },
    {
      "cell_type": "code",
      "source": [
        "x = np.array(x)[index_0 + index_1 + index_2 + index_3]\n",
        "y = np.array(y)[index_0 + index_1 + index_2 + index_3]"
      ],
      "metadata": {
        "id": "AY-heGVGFhyM"
      },
      "execution_count": 23,
      "outputs": []
    },
    {
      "cell_type": "code",
      "source": [
        "y.tolist().count(0), y.tolist().count(1), y.tolist().count(2), y.tolist().count(3)"
      ],
      "metadata": {
        "colab": {
          "base_uri": "https://localhost:8080/"
        },
        "id": "3xu7ukcHXpBF",
        "outputId": "68846e40-105f-42dd-80fa-4bf4e3079a6e"
      },
      "execution_count": 24,
      "outputs": [
        {
          "output_type": "execute_result",
          "data": {
            "text/plain": [
              "(306, 124, 124, 124)"
            ]
          },
          "metadata": {},
          "execution_count": 24
        }
      ]
    },
    {
      "cell_type": "code",
      "source": [],
      "metadata": {
        "id": "P5mvn4YVXpEb"
      },
      "execution_count": null,
      "outputs": []
    },
    {
      "cell_type": "markdown",
      "source": [
        "### если удалять"
      ],
      "metadata": {
        "id": "lP1SUWUAdQMJ"
      }
    },
    {
      "cell_type": "code",
      "execution_count": 25,
      "metadata": {
        "tags": [],
        "colab": {
          "base_uri": "https://localhost:8080/"
        },
        "id": "0bda7053-262c-45c7-9a2e-6631974d5fd3",
        "outputId": "14240da4-b01e-4724-931e-aac1d826526c"
      },
      "outputs": [
        {
          "output_type": "stream",
          "name": "stdout",
          "text": [
            "k = 170\n"
          ]
        }
      ],
      "source": [
        "balance_under = True\n",
        "if balance_under:\n",
        "    k = round((y.tolist().count(0) + y.tolist().count(1) + y.tolist().count(2) + y.tolist().count(3)) / 4)\n",
        "    # k = min(y.count(0), y.count(1), y.count(2), y.count(3))\n",
        "    print(f'k = {k}')\n",
        "else:\n",
        "    k = 15000000\n",
        "index_0 = random.choices(np.where(y == 0)[0], k=k) if k < y.tolist().count(0) else np.where(y == 0)[0].tolist()\n",
        "index_1 = random.choices(np.where(y == 1)[0], k=k) if k < y.tolist().count(1) else np.where(y == 1)[0].tolist()\n",
        "index_2 = random.choices(np.where(y == 2)[0], k=k) if k < y.tolist().count(2) else np.where(y == 2)[0].tolist()\n",
        "index_3 = random.choices(np.where(y == 3)[0], k=k) if k < y.tolist().count(3) else np.where(y == 3)[0].tolist()"
      ]
    },
    {
      "cell_type": "code",
      "execution_count": 26,
      "metadata": {
        "id": "65a2bb3c-8007-4809-829a-1a6314f2418f"
      },
      "outputs": [],
      "source": [
        "x = np.array(x)[index_0 + index_1 + index_2 + index_3]\n",
        "y = np.array(y)[index_0 + index_1 + index_2 + index_3]"
      ]
    },
    {
      "cell_type": "code",
      "execution_count": 27,
      "metadata": {
        "colab": {
          "base_uri": "https://localhost:8080/"
        },
        "id": "bd033bbe-7d8a-4926-8864-f59e62aa2585",
        "outputId": "da997afc-364a-4fa2-cd95-f47cb20800fd"
      },
      "outputs": [
        {
          "output_type": "execute_result",
          "data": {
            "text/plain": [
              "(170, 124, 124, 124)"
            ]
          },
          "metadata": {},
          "execution_count": 27
        }
      ],
      "source": [
        "y.tolist().count(0), y.tolist().count(1), y.tolist().count(2), y.tolist().count(3)"
      ]
    },
    {
      "cell_type": "code",
      "source": [],
      "metadata": {
        "id": "i3gKUm5I5fLI"
      },
      "execution_count": null,
      "outputs": []
    },
    {
      "cell_type": "markdown",
      "source": [
        "# ClassificationDataset"
      ],
      "metadata": {
        "id": "hKOqxkwEoztx"
      }
    },
    {
      "cell_type": "code",
      "source": [
        "class ClassificationDataset(torch.utils.data.Dataset):\n",
        "    \"\"\"Создание TokenClassificationDataset для дальнейшей передачи его в DataLoader\n",
        "    \"\"\"\n",
        "\n",
        "    def __init__(self, encodings):\n",
        "        \"\"\"Инициализация подготовки признаков\n",
        "\n",
        "        Вход:\n",
        "            encodings (transformers.tokenization_utils_base.BatchEncoding): BatchEncoding датасета\n",
        "        \"\"\"\n",
        "\n",
        "        self.encodings = encodings\n",
        "\n",
        "    def __getitem__(self, idx):\n",
        "        \"\"\"Вызов по индексу\n",
        "\n",
        "        Вход:\n",
        "            idx: индексы\n",
        "        \"\"\"\n",
        "\n",
        "        res = {}\n",
        "        for key, val in self.encodings.items():\n",
        "              res[key] = val[idx]\n",
        "        return res\n",
        "\n",
        "    def __len__(self):\n",
        "        \"\"\"Определение длины\n",
        "        \"\"\"\n",
        "        return len(self.encodings['input'])\n"
      ],
      "metadata": {
        "id": "7zpqDOJQIzQm"
      },
      "execution_count": 28,
      "outputs": []
    },
    {
      "cell_type": "code",
      "source": [
        "x_train, x_val, y_train, y_val = train_test_split(x, y, train_size=train_size, stratify=y)"
      ],
      "metadata": {
        "id": "BE988VdBI4Zs"
      },
      "execution_count": 29,
      "outputs": []
    },
    {
      "cell_type": "code",
      "source": [],
      "metadata": {
        "id": "IXUzQ8gXKREw"
      },
      "execution_count": null,
      "outputs": []
    },
    {
      "cell_type": "markdown",
      "source": [
        "# Модель"
      ],
      "metadata": {
        "id": "ML3FBB1W3LcU"
      }
    },
    {
      "cell_type": "code",
      "source": [
        "momentum = 0.9\n",
        "num_epochs = 20\n",
        "output_dir = '/'\n",
        "optim_name = 'AdamW'\n",
        "sched_type = 'get_linear_schedule_with_warmup'\n",
        "learning_rate= 0.0001"
      ],
      "metadata": {
        "id": "eOT9UeHjuQQc"
      },
      "execution_count": 42,
      "outputs": []
    },
    {
      "cell_type": "code",
      "source": [],
      "metadata": {
        "id": "uze6_mw3MzNH"
      },
      "execution_count": null,
      "outputs": []
    },
    {
      "cell_type": "markdown",
      "source": [
        "## transformer train"
      ],
      "metadata": {
        "id": "eE88PLS-rtiT"
      }
    },
    {
      "cell_type": "code",
      "source": [
        "device = 'cuda'\n",
        "model = model.to(device)"
      ],
      "metadata": {
        "id": "aXkEAWxSTKAT"
      },
      "execution_count": 35,
      "outputs": []
    },
    {
      "cell_type": "code",
      "source": [
        "training_args = TrainingArguments(\n",
        "    output_dir='/',\n",
        "    do_train=True,\n",
        "    do_eval=True,\n",
        "    save_strategy='epoch',\n",
        "    learning_rate=learning_rate,\n",
        "    evaluation_strategy='epoch',\n",
        "    logging_strategy='epoch',\n",
        "    num_train_epochs=num_epochs,\n",
        "    per_device_train_batch_size=batch_size,\n",
        "    per_device_eval_batch_size=batch_size,\n",
        "\n",
        ")"
      ],
      "metadata": {
        "id": "UPIl7Op4Icv4"
      },
      "execution_count": 36,
      "outputs": []
    },
    {
      "cell_type": "code",
      "source": [
        "image_datasets = {'train': ClassificationDataset({'input_ids': x_train, 'labels': y_train}),\n",
        "                  'val': ClassificationDataset({'input_ids': x_val, 'labels': x_val}),\n",
        "                  'test': ClassificationDataset({'input_ids': x, 'labels': y})}\n",
        "\n",
        "# train_dataset = pd.DataFrame({'input_ids': x_train, 'labels': y_train})\n",
        "# eval_dataset = pd.DataFrame({'input_ids': x_val, 'labels': x_val})"
      ],
      "metadata": {
        "id": "rbsdMo3zUKvS"
      },
      "execution_count": 37,
      "outputs": []
    },
    {
      "cell_type": "code",
      "source": [
        "trainer = Trainer(\n",
        "    model=model,\n",
        "    args=training_args,\n",
        "    train_dataset=image_datasets['train'],\n",
        "    eval_dataset=image_datasets['val'],\n",
        "    # compute_metrics=compute_metrics\n",
        ")"
      ],
      "metadata": {
        "id": "cpgyvNBTH2pq"
      },
      "execution_count": null,
      "outputs": []
    },
    {
      "cell_type": "code",
      "source": [
        "trainer.train()"
      ],
      "metadata": {
        "id": "UqrhZBPgWlzd"
      },
      "execution_count": null,
      "outputs": []
    },
    {
      "cell_type": "code",
      "source": [],
      "metadata": {
        "id": "jCY4gi1XsQS5"
      },
      "execution_count": null,
      "outputs": []
    },
    {
      "cell_type": "markdown",
      "source": [
        "## torch train"
      ],
      "metadata": {
        "id": "k15U8Wudrx4F"
      }
    },
    {
      "cell_type": "code",
      "source": [
        "image_datasets = {'train': ClassificationDataset({'input': x_train, 'label': y_train}),\n",
        "                  'val': ClassificationDataset({'input': x_val, 'label': y_val}),\n",
        "                  'test': ClassificationDataset({'input': x, 'label': y})}\n",
        "\n",
        "dataloaders = {'train': torch.utils.data.DataLoader(image_datasets['train'], batch_size=batch_size,\n",
        "                                              shuffle=True, num_workers=4),\n",
        "               'val': torch.utils.data.DataLoader(image_datasets['val'], batch_size=batch_size,\n",
        "                                              shuffle=True, num_workers=4),\n",
        "               'test': torch.utils.data.DataLoader(image_datasets['test'], batch_size=batch_size,\n",
        "                                              shuffle=True, num_workers=4)}"
      ],
      "metadata": {
        "id": "9REalcu6I2KW"
      },
      "execution_count": 49,
      "outputs": []
    },
    {
      "cell_type": "code",
      "source": [
        "def train_model(model, criterion, optimizer, scheduler, num_epochs, dataloaders, batch_size, output_dir):\n",
        "    \"\"\"Train the model.\"\"\"\n",
        "\n",
        "    # load training/validation data\n",
        "\n",
        "    device = torch.device('cuda' if torch.cuda.is_available() else 'cpu')\n",
        "    print(f'device = {device}')\n",
        "#     device = 'cpu'\n",
        "    model = model.to(device)\n",
        "    since = time.time()\n",
        "\n",
        "    best_model_wts = copy.deepcopy(model.state_dict())\n",
        "    best_acc = 0.0\n",
        "    best_f1_total = 0\n",
        "    log_dir = output_dir\n",
        "    epoch_loss_train_list, epoch_acc_train_list, epoch_f1_total_train_list, epoch_f1_train_list = [], [], [], []\n",
        "    epoch_loss_val_list, epoch_acc_val_list, epoch_f1_total_val_list, epoch_f1_val_list = [], [], [], []\n",
        "    epoch_loss_test_list, epoch_acc_test_list, epoch_f1_total_test_list, epoch_f1_test_list = [], [], [], []\n",
        "\n",
        "    for epoch in tqdm(range(num_epochs)):\n",
        "        print('Epoch {}/{}'.format(epoch, num_epochs - 1))\n",
        "        print('-' * 20)\n",
        "\n",
        "        # Each epoch has a training and validation phase\n",
        "        if colab:\n",
        "          phases = ['train', 'val']\n",
        "        else:\n",
        "          phases = ['train', 'val', 'test']\n",
        "        for phase in phases:\n",
        "            if phase == 'train':\n",
        "                model.train()  # Set model to training mode\n",
        "            else:\n",
        "                model.eval()   # Set model to evaluate mode\n",
        "\n",
        "            running_loss, running_corrects, running_f1_total, running_f1 = [], [], [], []\n",
        "\n",
        "            # Iterate over data.\n",
        "            for dataloader in tqdm(dataloaders[phase]):\n",
        "                time.sleep(0.1)\n",
        "                inputs = dataloader['input'].to(device)\n",
        "                labels = dataloader['label'].to(device)\n",
        "\n",
        "                # zero the parameter gradients\n",
        "                optimizer.zero_grad()\n",
        "\n",
        "                # forward\n",
        "                # track history if only in train\n",
        "                with torch.set_grad_enabled(phase == 'train'):\n",
        "                    if model_type == 'transformers':\n",
        "                        outputs = model(**inputs, labels=labels) # outputs = model(**inputs)\n",
        "                        _, preds = torch.max(outputs[\"logits\"], 1)\n",
        "                        loss = outputs[\"loss\"] # loss = criterion(outputs[\"logits\"], labels)\n",
        "                    if model_type == 'torch':\n",
        "                        # print(f'inputs.shape = {inputs.shape}')\n",
        "                        outputs = model(inputs)\n",
        "                        # print(f'outputs = {outputs.shape}')\n",
        "                        _, preds = torch.max(outputs, 1)\n",
        "                        # print(f'preds = {preds}')\n",
        "                        loss = criterion(outputs, labels)\n",
        "                    # backward + optimize only if in training phase\n",
        "                    if phase == 'train':\n",
        "                        loss.backward()\n",
        "                        optimizer.step()\n",
        "                        scheduler.step()\n",
        "\n",
        "                # statistics\n",
        "                running_loss.append(loss.item()) # running_loss.append(loss.item() * inputs[\"pixel_values\"].size(0))\n",
        "                running_corrects.append(torch.sum(preds == labels.data))\n",
        "                if colab:\n",
        "                    f1_total = F1Score(average='macro', multidim_average='global', num_classes=4, task='multiclass').to(device)\n",
        "                    f1_total = f1_total(preds, labels).detach().cpu().tolist()\n",
        "                else:\n",
        "                    f1_total = functional.f1(preds, labels, average='macro', mdmc_average='global', num_classes=4).detach().cpu().tolist()\n",
        "                running_f1_total.append(f1_total)\n",
        "                if colab:\n",
        "                    f1 = F1Score(average=None, multidim_average='global', num_classes=4, task='multiclass').to(device)\n",
        "                    f1 = f1(preds, labels).detach().cpu().tolist()\n",
        "                    f1 = np.array([f1_ if f1_ == f1_ else 0 for f1_ in f1])\n",
        "                else:\n",
        "                    f1 = functional.f1(preds, labels, average=None, mdmc_average='global', num_classes=4).detach().cpu().tolist()\n",
        "                    f1 = np.array([f1_ if f1_ == f1_ else 0 for f1_ in f1])\n",
        "                running_f1.append(f1)\n",
        "\n",
        "            epoch_loss = sum(running_loss) / len(running_loss)\n",
        "            epoch_f1_total = sum(running_f1_total) / len(running_f1_total)\n",
        "            epoch_f1 = sum(running_f1) / len(running_f1)\n",
        "            epoch_acc = sum(running_corrects) / len(running_corrects)\n",
        "\n",
        "            if phase == 'train':\n",
        "                epoch_loss_train_list.append(epoch_loss)\n",
        "                epoch_acc_train_list.append(epoch_acc)\n",
        "                epoch_f1_total_train_list.append(epoch_f1_total)\n",
        "                epoch_f1_train_list.append(epoch_f1)\n",
        "            if phase == 'val':\n",
        "                epoch_loss_val_list.append(epoch_loss)\n",
        "                epoch_acc_val_list.append(epoch_acc)\n",
        "                epoch_f1_total_val_list.append(epoch_f1_total)\n",
        "                epoch_f1_val_list.append(epoch_f1)\n",
        "            if phase == 'test':\n",
        "                epoch_loss_test_list.append(epoch_loss)\n",
        "                epoch_acc_test_list.append(epoch_acc)\n",
        "                epoch_f1_total_test_list.append(epoch_f1_total)\n",
        "                epoch_f1_test_list.append(epoch_f1)\n",
        "\n",
        "            print('{} Loss: {:.4f} Acc: {:.4f} f1_total: {:.4f}'.format(\n",
        "                phase, epoch_loss, epoch_acc, epoch_f1_total))\n",
        "            print(f'lr = {scheduler.optimizer.param_groups[0][\"lr\"]}')\n",
        "\n",
        "            # deep copy the model\n",
        "            if phase == 'val' and epoch_f1_total > best_f1_total:\n",
        "                best_f1_total = epoch_f1_total\n",
        "                best_model_wts = copy.deepcopy(model.state_dict())\n",
        "                print('Новая лучшая модель!')\n",
        "                torch.save(model, f'best.pt')\n",
        "            torch.save(model, f'epoch_{epoch}.pt')\n",
        "\n",
        "\n",
        "        print()\n",
        "\n",
        "    time_elapsed = time.time() - since\n",
        "    print('Training complete in {:.0f}m {:.0f}s'.format(\n",
        "        time_elapsed // 60, time_elapsed % 60))\n",
        "    print('Best val Acc: {:4f}'.format(best_acc))\n",
        "\n",
        "    # load best model weights\n",
        "    model.load_state_dict(best_model_wts)\n",
        "\n",
        "    metrics = {'epoch_loss_train_list': epoch_loss_train_list,\n",
        "          'epoch_acc_train_list': epoch_acc_train_list,\n",
        "          'epoch_f1_total_train_list': epoch_f1_total_train_list,\n",
        "          'epoch_f1_train_list': epoch_f1_train_list,\n",
        "\n",
        "          'epoch_loss_val_list': epoch_loss_val_list,\n",
        "          'epoch_acc_val_list': epoch_acc_val_list,\n",
        "          'epoch_f1_total_val_list': epoch_f1_total_val_list,\n",
        "          'epoch_f1_val_list': epoch_f1_val_list,\n",
        "\n",
        "          'epoch_loss_test_list': epoch_loss_test_list,\n",
        "          'epoch_acc_test_list': epoch_acc_test_list,\n",
        "          'epoch_f1_total_test_list': epoch_f1_total_test_list,\n",
        "          'epoch_f1_test_list': epoch_f1_test_list,}\n",
        "\n",
        "    return model, metrics"
      ],
      "metadata": {
        "id": "yu_-6rDzsQVW"
      },
      "execution_count": 53,
      "outputs": []
    },
    {
      "cell_type": "code",
      "source": [
        "criterion = nn.CrossEntropyLoss()\n",
        "# Observe that all parameters are being optimized\n",
        "if optim_name == 'SGD':\n",
        "  optimizer_ft = optim.SGD(model.parameters(),\n",
        "                            lr=learning_rate, momentum=momentum)\n",
        "if optim_name == 'AdamW':\n",
        "  optimizer_ft = optim.AdamW(model.parameters(),\n",
        "                            lr=learning_rate)\n",
        "\n",
        "# Decay LR by a factor of 0.1 every 7 epochs\n",
        "exp_lr_scheduler = lr_scheduler.StepLR(\n",
        "    optimizer_ft, step_size=5, gamma=0.1)\n",
        "\n",
        "num_steps = round(len(image_datasets['train']) / batch_size) * num_epochs\n",
        "print(f'num_steps = {num_steps}')\n",
        "\n",
        "if sched_type == 'get_linear_schedule_with_warmup':\n",
        "  exp_lr_scheduler = get_linear_schedule_with_warmup(\n",
        "      optimizer_ft, round(num_steps * 0.2), num_steps)\n",
        "if sched_type == 'get_constant_schedule_with_warmup':\n",
        "  exp_lr_scheduler = get_constant_schedule_with_warmup(\n",
        "      optimizer_ft, round(num_steps * 0.2))\n",
        "      # exp_lr_scheduler = lr_scheduler.StepLR(\n",
        "      #     optimizer_ft, step_size=2, gamma=0.1)"
      ],
      "metadata": {
        "id": "ZC-JlFH8wBbK",
        "colab": {
          "base_uri": "https://localhost:8080/"
        },
        "outputId": "7c1f18d8-a754-47d3-c9bf-28696b7fb8b1"
      },
      "execution_count": 54,
      "outputs": [
        {
          "output_type": "stream",
          "name": "stdout",
          "text": [
            "num_steps = 640\n"
          ]
        }
      ]
    },
    {
      "cell_type": "code",
      "source": [],
      "metadata": {
        "id": "KuHVbI-2qmc5"
      },
      "execution_count": null,
      "outputs": []
    },
    {
      "cell_type": "code",
      "source": [
        "model, metrics = train_model(model, criterion, optimizer_ft,\n",
        "                    exp_lr_scheduler, num_epochs, dataloaders, batch_size, output_dir)"
      ],
      "metadata": {
        "id": "Ta7u_ns2sQXa",
        "colab": {
          "base_uri": "https://localhost:8080/"
        },
        "outputId": "1cbefc87-19f2-4f25-dab7-4d20192971b5"
      },
      "execution_count": 55,
      "outputs": [
        {
          "output_type": "stream",
          "name": "stdout",
          "text": [
            "device = cuda\n"
          ]
        },
        {
          "output_type": "stream",
          "name": "stderr",
          "text": [
            "\r  0%|          | 0/20 [00:00<?, ?it/s]"
          ]
        },
        {
          "output_type": "stream",
          "name": "stdout",
          "text": [
            "Epoch 0/19\n",
            "--------------------\n"
          ]
        },
        {
          "output_type": "stream",
          "name": "stderr",
          "text": [
            "\n",
            "  0%|          | 0/33 [00:00<?, ?it/s]\u001b[A\n",
            "  3%|▎         | 1/33 [00:02<01:27,  2.74s/it]\u001b[A\n",
            "  6%|▌         | 2/33 [00:03<00:57,  1.85s/it]\u001b[A\n",
            "  9%|▉         | 3/33 [00:05<00:47,  1.57s/it]\u001b[A\n",
            " 12%|█▏        | 4/33 [00:06<00:42,  1.46s/it]\u001b[A\n",
            " 15%|█▌        | 5/33 [00:07<00:39,  1.40s/it]\u001b[A\n",
            " 18%|█▊        | 6/33 [00:09<00:37,  1.37s/it]\u001b[A\n",
            " 21%|██        | 7/33 [00:10<00:34,  1.34s/it]\u001b[A\n",
            " 24%|██▍       | 8/33 [00:11<00:32,  1.31s/it]\u001b[A\n",
            " 27%|██▋       | 9/33 [00:12<00:31,  1.29s/it]\u001b[A\n",
            " 30%|███       | 10/33 [00:14<00:29,  1.28s/it]\u001b[A\n",
            " 33%|███▎      | 11/33 [00:15<00:28,  1.27s/it]\u001b[A\n",
            " 36%|███▋      | 12/33 [00:16<00:26,  1.27s/it]\u001b[A\n",
            " 39%|███▉      | 13/33 [00:17<00:25,  1.27s/it]\u001b[A\n",
            " 42%|████▏     | 14/33 [00:19<00:24,  1.27s/it]\u001b[A\n",
            " 45%|████▌     | 15/33 [00:20<00:22,  1.27s/it]\u001b[A\n",
            " 48%|████▊     | 16/33 [00:21<00:21,  1.29s/it]\u001b[A\n",
            " 52%|█████▏    | 17/33 [00:23<00:20,  1.30s/it]\u001b[A\n",
            " 55%|█████▍    | 18/33 [00:24<00:19,  1.31s/it]\u001b[A\n",
            " 58%|█████▊    | 19/33 [00:25<00:18,  1.31s/it]\u001b[A\n",
            " 61%|██████    | 20/33 [00:27<00:16,  1.31s/it]\u001b[A\n",
            " 64%|██████▎   | 21/33 [00:28<00:15,  1.30s/it]\u001b[A\n",
            " 67%|██████▋   | 22/33 [00:29<00:14,  1.29s/it]\u001b[A\n",
            " 70%|██████▉   | 23/33 [00:30<00:12,  1.29s/it]\u001b[A\n",
            " 73%|███████▎  | 24/33 [00:32<00:11,  1.29s/it]\u001b[A\n",
            " 76%|███████▌  | 25/33 [00:33<00:10,  1.29s/it]\u001b[A\n",
            " 79%|███████▉  | 26/33 [00:34<00:09,  1.29s/it]\u001b[A\n",
            " 82%|████████▏ | 27/33 [00:36<00:07,  1.29s/it]\u001b[A\n",
            " 85%|████████▍ | 28/33 [00:37<00:06,  1.31s/it]\u001b[A\n",
            " 88%|████████▊ | 29/33 [00:38<00:05,  1.32s/it]\u001b[A\n",
            " 91%|█████████ | 30/33 [00:40<00:03,  1.32s/it]\u001b[A\n",
            " 94%|█████████▍| 31/33 [00:41<00:02,  1.32s/it]\u001b[A\n",
            " 97%|█████████▋| 32/33 [00:42<00:01,  1.31s/it]\u001b[A\n",
            "100%|██████████| 33/33 [00:43<00:00,  1.31s/it]\n"
          ]
        },
        {
          "output_type": "stream",
          "name": "stdout",
          "text": [
            "train Loss: 1.3225 Acc: 5.9091 f1_total: 0.2886\n",
            "lr = 2.578125e-05\n"
          ]
        },
        {
          "output_type": "stream",
          "name": "stderr",
          "text": [
            "\n",
            "  0%|          | 0/2 [00:00<?, ?it/s]\u001b[A\n",
            " 50%|█████     | 1/2 [00:00<00:00,  1.06it/s]\u001b[A\n",
            "100%|██████████| 2/2 [00:01<00:00,  1.22it/s]\n"
          ]
        },
        {
          "output_type": "stream",
          "name": "stdout",
          "text": [
            "val Loss: 1.5338 Acc: 2.0000 f1_total: 0.0587\n",
            "lr = 2.578125e-05\n",
            "Новая лучшая модель!\n"
          ]
        },
        {
          "output_type": "stream",
          "name": "stderr",
          "text": [
            "\r  5%|▌         | 1/20 [00:45<14:23, 45.45s/it]"
          ]
        },
        {
          "output_type": "stream",
          "name": "stdout",
          "text": [
            "\n",
            "Epoch 1/19\n",
            "--------------------\n"
          ]
        },
        {
          "output_type": "stream",
          "name": "stderr",
          "text": [
            "\n",
            "  0%|          | 0/33 [00:00<?, ?it/s]\u001b[A\n",
            "  3%|▎         | 1/33 [00:02<01:04,  2.00s/it]\u001b[A\n",
            "  6%|▌         | 2/33 [00:03<00:49,  1.59s/it]\u001b[A\n",
            "  9%|▉         | 3/33 [00:04<00:43,  1.45s/it]\u001b[A\n",
            " 12%|█▏        | 4/33 [00:05<00:40,  1.41s/it]\u001b[A\n",
            " 15%|█▌        | 5/33 [00:07<00:38,  1.37s/it]\u001b[A\n",
            " 18%|█▊        | 6/33 [00:08<00:36,  1.35s/it]\u001b[A\n",
            " 21%|██        | 7/33 [00:09<00:34,  1.34s/it]\u001b[A\n",
            " 24%|██▍       | 8/33 [00:11<00:32,  1.32s/it]\u001b[A\n",
            " 27%|██▋       | 9/33 [00:12<00:31,  1.30s/it]\u001b[A\n",
            " 30%|███       | 10/33 [00:13<00:29,  1.29s/it]\u001b[A\n",
            " 33%|███▎      | 11/33 [00:14<00:28,  1.28s/it]\u001b[A\n",
            " 36%|███▋      | 12/33 [00:16<00:26,  1.28s/it]\u001b[A\n",
            " 39%|███▉      | 13/33 [00:17<00:25,  1.28s/it]\u001b[A\n",
            " 42%|████▏     | 14/33 [00:18<00:24,  1.27s/it]\u001b[A\n",
            " 45%|████▌     | 15/33 [00:20<00:22,  1.27s/it]\u001b[A\n",
            " 48%|████▊     | 16/33 [00:21<00:21,  1.28s/it]\u001b[A\n",
            " 52%|█████▏    | 17/33 [00:22<00:20,  1.29s/it]\u001b[A\n",
            " 55%|█████▍    | 18/33 [00:23<00:19,  1.29s/it]\u001b[A\n",
            " 58%|█████▊    | 19/33 [00:25<00:18,  1.29s/it]\u001b[A\n",
            " 61%|██████    | 20/33 [00:26<00:16,  1.28s/it]\u001b[A\n",
            " 64%|██████▎   | 21/33 [00:27<00:15,  1.27s/it]\u001b[A\n",
            " 67%|██████▋   | 22/33 [00:28<00:13,  1.27s/it]\u001b[A\n",
            " 70%|██████▉   | 23/33 [00:30<00:12,  1.27s/it]\u001b[A\n",
            " 73%|███████▎  | 24/33 [00:31<00:11,  1.27s/it]\u001b[A\n",
            " 76%|███████▌  | 25/33 [00:32<00:10,  1.26s/it]\u001b[A\n",
            " 79%|███████▉  | 26/33 [00:34<00:08,  1.26s/it]\u001b[A\n",
            " 82%|████████▏ | 27/33 [00:35<00:07,  1.26s/it]\u001b[A\n",
            " 85%|████████▍ | 28/33 [00:36<00:06,  1.27s/it]\u001b[A\n",
            " 88%|████████▊ | 29/33 [00:37<00:05,  1.27s/it]\u001b[A\n",
            " 91%|█████████ | 30/33 [00:39<00:03,  1.27s/it]\u001b[A\n",
            " 94%|█████████▍| 31/33 [00:40<00:02,  1.26s/it]\u001b[A\n",
            " 97%|█████████▋| 32/33 [00:41<00:01,  1.26s/it]\u001b[A\n",
            "100%|██████████| 33/33 [00:42<00:00,  1.28s/it]\n"
          ]
        },
        {
          "output_type": "stream",
          "name": "stdout",
          "text": [
            "train Loss: 0.9232 Acc: 11.6970 f1_total: 0.7156\n",
            "lr = 5.15625e-05\n"
          ]
        },
        {
          "output_type": "stream",
          "name": "stderr",
          "text": [
            "\n",
            "  0%|          | 0/2 [00:00<?, ?it/s]\u001b[A\n",
            " 50%|█████     | 1/2 [00:00<00:00,  1.08it/s]\u001b[A\n",
            "100%|██████████| 2/2 [00:01<00:00,  1.23it/s]\n"
          ]
        },
        {
          "output_type": "stream",
          "name": "stdout",
          "text": [
            "val Loss: 1.4742 Acc: 3.0000 f1_total: 0.0882\n",
            "lr = 5.15625e-05\n",
            "Новая лучшая модель!\n"
          ]
        },
        {
          "output_type": "stream",
          "name": "stderr",
          "text": [
            "\r 10%|█         | 2/20 [01:29<13:25, 44.76s/it]"
          ]
        },
        {
          "output_type": "stream",
          "name": "stdout",
          "text": [
            "\n",
            "Epoch 2/19\n",
            "--------------------\n"
          ]
        },
        {
          "output_type": "stream",
          "name": "stderr",
          "text": [
            "\n",
            "  0%|          | 0/33 [00:00<?, ?it/s]\u001b[A\n",
            "  3%|▎         | 1/33 [00:01<00:59,  1.87s/it]\u001b[A\n",
            "  6%|▌         | 2/33 [00:03<00:47,  1.52s/it]\u001b[A\n",
            "  9%|▉         | 3/33 [00:04<00:42,  1.41s/it]\u001b[A\n",
            " 12%|█▏        | 4/33 [00:05<00:39,  1.37s/it]\u001b[A\n",
            " 15%|█▌        | 5/33 [00:07<00:37,  1.35s/it]\u001b[A\n",
            " 18%|█▊        | 6/33 [00:08<00:36,  1.34s/it]\u001b[A\n",
            " 21%|██        | 7/33 [00:09<00:34,  1.34s/it]\u001b[A\n",
            " 24%|██▍       | 8/33 [00:10<00:32,  1.32s/it]\u001b[A\n",
            " 27%|██▋       | 9/33 [00:12<00:31,  1.30s/it]\u001b[A\n",
            " 30%|███       | 10/33 [00:13<00:29,  1.29s/it]\u001b[A\n",
            " 33%|███▎      | 11/33 [00:14<00:28,  1.29s/it]\u001b[A\n",
            " 36%|███▋      | 12/33 [00:16<00:26,  1.28s/it]\u001b[A\n",
            " 39%|███▉      | 13/33 [00:17<00:25,  1.28s/it]\u001b[A\n",
            " 42%|████▏     | 14/33 [00:18<00:24,  1.28s/it]\u001b[A\n",
            " 45%|████▌     | 15/33 [00:19<00:23,  1.28s/it]\u001b[A\n",
            " 48%|████▊     | 16/33 [00:21<00:22,  1.30s/it]\u001b[A\n",
            " 52%|█████▏    | 17/33 [00:22<00:20,  1.31s/it]\u001b[A\n",
            " 55%|█████▍    | 18/33 [00:23<00:19,  1.32s/it]\u001b[A\n",
            " 58%|█████▊    | 19/33 [00:25<00:18,  1.32s/it]\u001b[A\n",
            " 61%|██████    | 20/33 [00:26<00:17,  1.33s/it]\u001b[A\n",
            " 64%|██████▎   | 21/33 [00:27<00:16,  1.34s/it]\u001b[A\n",
            " 67%|██████▋   | 22/33 [00:29<00:14,  1.33s/it]\u001b[A\n",
            " 70%|██████▉   | 23/33 [00:30<00:13,  1.35s/it]\u001b[A\n",
            " 73%|███████▎  | 24/33 [00:31<00:12,  1.34s/it]\u001b[A\n",
            " 76%|███████▌  | 25/33 [00:33<00:10,  1.32s/it]\u001b[A\n",
            " 79%|███████▉  | 26/33 [00:34<00:09,  1.30s/it]\u001b[A\n",
            " 82%|████████▏ | 27/33 [00:35<00:07,  1.30s/it]\u001b[A\n",
            " 85%|████████▍ | 28/33 [00:37<00:06,  1.30s/it]\u001b[A\n",
            " 88%|████████▊ | 29/33 [00:38<00:05,  1.30s/it]\u001b[A\n",
            " 91%|█████████ | 30/33 [00:39<00:03,  1.30s/it]\u001b[A\n",
            " 94%|█████████▍| 31/33 [00:40<00:02,  1.29s/it]\u001b[A\n",
            " 97%|█████████▋| 32/33 [00:42<00:01,  1.28s/it]\u001b[A\n",
            "100%|██████████| 33/33 [00:42<00:00,  1.30s/it]\n"
          ]
        },
        {
          "output_type": "stream",
          "name": "stdout",
          "text": [
            "train Loss: 0.5094 Acc: 14.1212 f1_total: 0.8808\n",
            "lr = 7.734375e-05\n"
          ]
        },
        {
          "output_type": "stream",
          "name": "stderr",
          "text": [
            "\n",
            "  0%|          | 0/2 [00:00<?, ?it/s]\u001b[A\n",
            " 50%|█████     | 1/2 [00:00<00:00,  1.08it/s]\u001b[A\n",
            "100%|██████████| 2/2 [00:01<00:00,  1.23it/s]\n"
          ]
        },
        {
          "output_type": "stream",
          "name": "stdout",
          "text": [
            "val Loss: 1.3426 Acc: 4.0000 f1_total: 0.1823\n",
            "lr = 7.734375e-05\n",
            "Новая лучшая модель!\n"
          ]
        },
        {
          "output_type": "stream",
          "name": "stderr",
          "text": [
            "\r 15%|█▌        | 3/20 [02:14<12:42, 44.87s/it]"
          ]
        },
        {
          "output_type": "stream",
          "name": "stdout",
          "text": [
            "\n",
            "Epoch 3/19\n",
            "--------------------\n"
          ]
        },
        {
          "output_type": "stream",
          "name": "stderr",
          "text": [
            "\n",
            "  0%|          | 0/33 [00:00<?, ?it/s]\u001b[A\n",
            "  3%|▎         | 1/33 [00:02<01:04,  2.02s/it]\u001b[A\n",
            "  6%|▌         | 2/33 [00:03<00:49,  1.58s/it]\u001b[A\n",
            "  9%|▉         | 3/33 [00:04<00:43,  1.44s/it]\u001b[A\n",
            " 12%|█▏        | 4/33 [00:05<00:40,  1.39s/it]\u001b[A\n",
            " 15%|█▌        | 5/33 [00:07<00:38,  1.36s/it]\u001b[A\n",
            " 18%|█▊        | 6/33 [00:08<00:36,  1.35s/it]\u001b[A\n",
            " 21%|██        | 7/33 [00:09<00:34,  1.33s/it]\u001b[A\n",
            " 24%|██▍       | 8/33 [00:11<00:32,  1.31s/it]\u001b[A\n",
            " 27%|██▋       | 9/33 [00:12<00:31,  1.30s/it]\u001b[A\n",
            " 30%|███       | 10/33 [00:13<00:29,  1.29s/it]\u001b[A\n",
            " 33%|███▎      | 11/33 [00:14<00:28,  1.28s/it]\u001b[A\n",
            " 36%|███▋      | 12/33 [00:16<00:26,  1.28s/it]\u001b[A\n",
            " 39%|███▉      | 13/33 [00:17<00:25,  1.28s/it]\u001b[A\n",
            " 42%|████▏     | 14/33 [00:18<00:24,  1.28s/it]\u001b[A\n",
            " 45%|████▌     | 15/33 [00:20<00:23,  1.29s/it]\u001b[A\n",
            " 48%|████▊     | 16/33 [00:21<00:22,  1.30s/it]\u001b[A\n",
            " 52%|█████▏    | 17/33 [00:22<00:20,  1.31s/it]\u001b[A\n",
            " 55%|█████▍    | 18/33 [00:24<00:19,  1.32s/it]\u001b[A\n",
            " 58%|█████▊    | 19/33 [00:25<00:18,  1.30s/it]\u001b[A\n",
            " 61%|██████    | 20/33 [00:26<00:16,  1.29s/it]\u001b[A\n",
            " 64%|██████▎   | 21/33 [00:27<00:15,  1.29s/it]\u001b[A\n",
            " 67%|██████▋   | 22/33 [00:29<00:14,  1.28s/it]\u001b[A\n",
            " 70%|██████▉   | 23/33 [00:30<00:12,  1.28s/it]\u001b[A\n",
            " 73%|███████▎  | 24/33 [00:31<00:11,  1.28s/it]\u001b[A\n",
            " 76%|███████▌  | 25/33 [00:32<00:10,  1.27s/it]\u001b[A\n",
            " 79%|███████▉  | 26/33 [00:34<00:08,  1.27s/it]\u001b[A\n",
            " 82%|████████▏ | 27/33 [00:35<00:07,  1.27s/it]\u001b[A\n",
            " 85%|████████▍ | 28/33 [00:36<00:06,  1.28s/it]\u001b[A\n",
            " 88%|████████▊ | 29/33 [00:38<00:05,  1.28s/it]\u001b[A\n",
            " 91%|█████████ | 30/33 [00:39<00:03,  1.28s/it]\u001b[A\n",
            " 94%|█████████▍| 31/33 [00:40<00:02,  1.27s/it]\u001b[A\n",
            " 97%|█████████▋| 32/33 [00:41<00:01,  1.27s/it]\u001b[A\n",
            "100%|██████████| 33/33 [00:42<00:00,  1.29s/it]\n"
          ]
        },
        {
          "output_type": "stream",
          "name": "stdout",
          "text": [
            "train Loss: 0.2947 Acc: 14.5455 f1_total: 0.8956\n",
            "lr = 9.921875000000001e-05\n"
          ]
        },
        {
          "output_type": "stream",
          "name": "stderr",
          "text": [
            "\n",
            "  0%|          | 0/2 [00:00<?, ?it/s]\u001b[A\n",
            " 50%|█████     | 1/2 [00:00<00:00,  1.08it/s]\u001b[A\n",
            "100%|██████████| 2/2 [00:01<00:00,  1.24it/s]\n"
          ]
        },
        {
          "output_type": "stream",
          "name": "stdout",
          "text": [
            "val Loss: 1.0763 Acc: 7.0000 f1_total: 0.3635\n",
            "lr = 9.921875000000001e-05\n",
            "Новая лучшая модель!\n"
          ]
        },
        {
          "output_type": "stream",
          "name": "stderr",
          "text": [
            "\r 20%|██        | 4/20 [02:59<11:57, 44.83s/it]"
          ]
        },
        {
          "output_type": "stream",
          "name": "stdout",
          "text": [
            "\n",
            "Epoch 4/19\n",
            "--------------------\n"
          ]
        },
        {
          "output_type": "stream",
          "name": "stderr",
          "text": [
            "\n",
            "  0%|          | 0/33 [00:00<?, ?it/s]\u001b[A\n",
            "  3%|▎         | 1/33 [00:02<01:04,  2.02s/it]\u001b[A\n",
            "  6%|▌         | 2/33 [00:03<00:48,  1.58s/it]\u001b[A\n",
            "  9%|▉         | 3/33 [00:04<00:43,  1.44s/it]\u001b[A\n",
            " 12%|█▏        | 4/33 [00:05<00:40,  1.40s/it]\u001b[A\n",
            " 15%|█▌        | 5/33 [00:07<00:38,  1.37s/it]\u001b[A\n",
            " 18%|█▊        | 6/33 [00:08<00:36,  1.36s/it]\u001b[A\n",
            " 21%|██        | 7/33 [00:09<00:34,  1.33s/it]\u001b[A\n",
            " 24%|██▍       | 8/33 [00:11<00:32,  1.31s/it]\u001b[A\n",
            " 27%|██▋       | 9/33 [00:12<00:31,  1.30s/it]\u001b[A\n",
            " 30%|███       | 10/33 [00:13<00:29,  1.29s/it]\u001b[A\n",
            " 33%|███▎      | 11/33 [00:14<00:28,  1.28s/it]\u001b[A\n",
            " 36%|███▋      | 12/33 [00:16<00:26,  1.28s/it]\u001b[A\n",
            " 39%|███▉      | 13/33 [00:17<00:25,  1.28s/it]\u001b[A\n",
            " 42%|████▏     | 14/33 [00:18<00:24,  1.28s/it]\u001b[A\n",
            " 45%|████▌     | 15/33 [00:20<00:23,  1.30s/it]\u001b[A\n",
            " 48%|████▊     | 16/33 [00:21<00:22,  1.31s/it]\u001b[A\n",
            " 52%|█████▏    | 17/33 [00:22<00:20,  1.31s/it]\u001b[A\n",
            " 55%|█████▍    | 18/33 [00:24<00:19,  1.31s/it]\u001b[A\n",
            " 58%|█████▊    | 19/33 [00:25<00:18,  1.30s/it]\u001b[A\n",
            " 61%|██████    | 20/33 [00:26<00:16,  1.30s/it]\u001b[A\n",
            " 64%|██████▎   | 21/33 [00:27<00:15,  1.29s/it]\u001b[A\n",
            " 67%|██████▋   | 22/33 [00:29<00:14,  1.29s/it]\u001b[A\n",
            " 70%|██████▉   | 23/33 [00:30<00:12,  1.29s/it]\u001b[A\n",
            " 73%|███████▎  | 24/33 [00:31<00:11,  1.28s/it]\u001b[A\n",
            " 76%|███████▌  | 25/33 [00:33<00:10,  1.28s/it]\u001b[A\n",
            " 79%|███████▉  | 26/33 [00:34<00:08,  1.27s/it]\u001b[A\n",
            " 82%|████████▏ | 27/33 [00:35<00:07,  1.28s/it]\u001b[A\n",
            " 85%|████████▍ | 28/33 [00:36<00:06,  1.28s/it]\u001b[A\n",
            " 88%|████████▊ | 29/33 [00:38<00:05,  1.28s/it]\u001b[A\n",
            " 91%|█████████ | 30/33 [00:39<00:03,  1.28s/it]\u001b[A\n",
            " 94%|█████████▍| 31/33 [00:40<00:02,  1.27s/it]\u001b[A\n",
            " 97%|█████████▋| 32/33 [00:41<00:01,  1.27s/it]\u001b[A\n",
            "100%|██████████| 33/33 [00:42<00:00,  1.29s/it]\n"
          ]
        },
        {
          "output_type": "stream",
          "name": "stdout",
          "text": [
            "train Loss: 0.1872 Acc: 14.6667 f1_total: 0.9306\n",
            "lr = 9.27734375e-05\n"
          ]
        },
        {
          "output_type": "stream",
          "name": "stderr",
          "text": [
            "\n",
            "  0%|          | 0/2 [00:00<?, ?it/s]\u001b[A\n",
            " 50%|█████     | 1/2 [00:00<00:00,  1.08it/s]\u001b[A\n",
            "100%|██████████| 2/2 [00:01<00:00,  1.24it/s]\n"
          ]
        },
        {
          "output_type": "stream",
          "name": "stdout",
          "text": [
            "val Loss: 0.8371 Acc: 8.5000 f1_total: 0.5339\n",
            "lr = 9.27734375e-05\n",
            "Новая лучшая модель!\n"
          ]
        },
        {
          "output_type": "stream",
          "name": "stderr",
          "text": [
            "\r 25%|██▌       | 5/20 [03:44<11:11, 44.76s/it]"
          ]
        },
        {
          "output_type": "stream",
          "name": "stdout",
          "text": [
            "\n",
            "Epoch 5/19\n",
            "--------------------\n"
          ]
        },
        {
          "output_type": "stream",
          "name": "stderr",
          "text": [
            "\n",
            "  0%|          | 0/33 [00:00<?, ?it/s]\u001b[A\n",
            "  3%|▎         | 1/33 [00:02<01:05,  2.05s/it]\u001b[A\n",
            "  6%|▌         | 2/33 [00:03<00:49,  1.60s/it]\u001b[A\n",
            "  9%|▉         | 3/33 [00:04<00:43,  1.45s/it]\u001b[A\n",
            " 12%|█▏        | 4/33 [00:05<00:40,  1.40s/it]\u001b[A\n",
            " 15%|█▌        | 5/33 [00:07<00:38,  1.38s/it]\u001b[A\n",
            " 18%|█▊        | 6/33 [00:08<00:36,  1.37s/it]\u001b[A\n",
            " 21%|██        | 7/33 [00:09<00:34,  1.33s/it]\u001b[A\n",
            " 24%|██▍       | 8/33 [00:11<00:32,  1.31s/it]\u001b[A\n",
            " 27%|██▋       | 9/33 [00:12<00:31,  1.30s/it]\u001b[A\n",
            " 30%|███       | 10/33 [00:13<00:29,  1.29s/it]\u001b[A\n",
            " 33%|███▎      | 11/33 [00:14<00:28,  1.29s/it]\u001b[A\n",
            " 36%|███▋      | 12/33 [00:16<00:26,  1.28s/it]\u001b[A\n",
            " 39%|███▉      | 13/33 [00:17<00:25,  1.28s/it]\u001b[A\n",
            " 42%|████▏     | 14/33 [00:18<00:24,  1.28s/it]\u001b[A\n",
            " 45%|████▌     | 15/33 [00:20<00:23,  1.29s/it]\u001b[A\n",
            " 48%|████▊     | 16/33 [00:21<00:22,  1.30s/it]\u001b[A\n",
            " 52%|█████▏    | 17/33 [00:22<00:20,  1.30s/it]\u001b[A\n",
            " 55%|█████▍    | 18/33 [00:24<00:19,  1.32s/it]\u001b[A\n",
            " 58%|█████▊    | 19/33 [00:25<00:18,  1.30s/it]\u001b[A\n",
            " 61%|██████    | 20/33 [00:26<00:16,  1.29s/it]\u001b[A\n",
            " 64%|██████▎   | 21/33 [00:27<00:15,  1.29s/it]\u001b[A\n",
            " 67%|██████▋   | 22/33 [00:29<00:14,  1.28s/it]\u001b[A\n",
            " 70%|██████▉   | 23/33 [00:30<00:12,  1.28s/it]\u001b[A\n",
            " 73%|███████▎  | 24/33 [00:31<00:11,  1.28s/it]\u001b[A\n",
            " 76%|███████▌  | 25/33 [00:32<00:10,  1.27s/it]\u001b[A\n",
            " 79%|███████▉  | 26/33 [00:34<00:08,  1.27s/it]\u001b[A\n",
            " 82%|████████▏ | 27/33 [00:35<00:07,  1.28s/it]\u001b[A\n",
            " 85%|████████▍ | 28/33 [00:36<00:06,  1.28s/it]\u001b[A\n",
            " 88%|████████▊ | 29/33 [00:38<00:05,  1.28s/it]\u001b[A\n",
            " 91%|█████████ | 30/33 [00:39<00:03,  1.28s/it]\u001b[A\n",
            " 94%|█████████▍| 31/33 [00:40<00:02,  1.27s/it]\u001b[A\n",
            " 97%|█████████▋| 32/33 [00:41<00:01,  1.27s/it]\u001b[A\n",
            "100%|██████████| 33/33 [00:42<00:00,  1.29s/it]\n"
          ]
        },
        {
          "output_type": "stream",
          "name": "stdout",
          "text": [
            "train Loss: 0.1658 Acc: 14.7576 f1_total: 0.9266\n",
            "lr = 8.6328125e-05\n"
          ]
        },
        {
          "output_type": "stream",
          "name": "stderr",
          "text": [
            "\n",
            "  0%|          | 0/2 [00:00<?, ?it/s]\u001b[A\n",
            " 50%|█████     | 1/2 [00:00<00:00,  1.08it/s]\u001b[A\n",
            "100%|██████████| 2/2 [00:01<00:00,  1.24it/s]\n"
          ]
        },
        {
          "output_type": "stream",
          "name": "stdout",
          "text": [
            "val Loss: 0.6531 Acc: 12.0000 f1_total: 0.8109\n",
            "lr = 8.6328125e-05\n",
            "Новая лучшая модель!\n"
          ]
        },
        {
          "output_type": "stream",
          "name": "stderr",
          "text": [
            "\r 30%|███       | 6/20 [04:28<10:25, 44.69s/it]"
          ]
        },
        {
          "output_type": "stream",
          "name": "stdout",
          "text": [
            "\n",
            "Epoch 6/19\n",
            "--------------------\n"
          ]
        },
        {
          "output_type": "stream",
          "name": "stderr",
          "text": [
            "\n",
            "  0%|          | 0/33 [00:00<?, ?it/s]\u001b[A\n",
            "  3%|▎         | 1/33 [00:02<01:04,  2.01s/it]\u001b[A\n",
            "  6%|▌         | 2/33 [00:03<00:48,  1.58s/it]\u001b[A\n",
            "  9%|▉         | 3/33 [00:04<00:43,  1.44s/it]\u001b[A\n",
            " 12%|█▏        | 4/33 [00:05<00:40,  1.39s/it]\u001b[A\n",
            " 15%|█▌        | 5/33 [00:07<00:38,  1.36s/it]\u001b[A\n",
            " 18%|█▊        | 6/33 [00:08<00:36,  1.34s/it]\u001b[A\n",
            " 21%|██        | 7/33 [00:09<00:34,  1.33s/it]\u001b[A\n",
            " 24%|██▍       | 8/33 [00:11<00:32,  1.31s/it]\u001b[A\n",
            " 27%|██▋       | 9/33 [00:12<00:31,  1.30s/it]\u001b[A\n",
            " 30%|███       | 10/33 [00:13<00:29,  1.29s/it]\u001b[A\n",
            " 33%|███▎      | 11/33 [00:14<00:28,  1.29s/it]\u001b[A\n",
            " 36%|███▋      | 12/33 [00:16<00:26,  1.28s/it]\u001b[A\n",
            " 39%|███▉      | 13/33 [00:17<00:25,  1.28s/it]\u001b[A\n",
            " 42%|████▏     | 14/33 [00:18<00:24,  1.28s/it]\u001b[A\n",
            " 45%|████▌     | 15/33 [00:20<00:23,  1.29s/it]\u001b[A\n",
            " 48%|████▊     | 16/33 [00:21<00:22,  1.31s/it]\u001b[A\n",
            " 52%|█████▏    | 17/33 [00:22<00:21,  1.32s/it]\u001b[A\n",
            " 55%|█████▍    | 18/33 [00:24<00:20,  1.33s/it]\u001b[A\n",
            " 58%|█████▊    | 19/33 [00:25<00:18,  1.31s/it]\u001b[A\n",
            " 61%|██████    | 20/33 [00:26<00:16,  1.30s/it]\u001b[A\n",
            " 64%|██████▎   | 21/33 [00:27<00:15,  1.29s/it]\u001b[A\n",
            " 67%|██████▋   | 22/33 [00:29<00:14,  1.29s/it]\u001b[A\n",
            " 70%|██████▉   | 23/33 [00:30<00:12,  1.28s/it]\u001b[A\n",
            " 73%|███████▎  | 24/33 [00:31<00:11,  1.28s/it]\u001b[A\n",
            " 76%|███████▌  | 25/33 [00:32<00:10,  1.28s/it]\u001b[A\n",
            " 79%|███████▉  | 26/33 [00:34<00:08,  1.27s/it]\u001b[A\n",
            " 82%|████████▏ | 27/33 [00:35<00:07,  1.27s/it]\u001b[A\n",
            " 85%|████████▍ | 28/33 [00:36<00:06,  1.28s/it]\u001b[A\n",
            " 88%|████████▊ | 29/33 [00:38<00:05,  1.29s/it]\u001b[A\n",
            " 91%|█████████ | 30/33 [00:39<00:03,  1.29s/it]\u001b[A\n",
            " 94%|█████████▍| 31/33 [00:40<00:02,  1.28s/it]\u001b[A\n",
            " 97%|█████████▋| 32/33 [00:41<00:01,  1.27s/it]\u001b[A\n",
            "100%|██████████| 33/33 [00:42<00:00,  1.29s/it]\n"
          ]
        },
        {
          "output_type": "stream",
          "name": "stdout",
          "text": [
            "train Loss: 0.1737 Acc: 14.7576 f1_total: 0.9121\n",
            "lr = 7.98828125e-05\n"
          ]
        },
        {
          "output_type": "stream",
          "name": "stderr",
          "text": [
            "\n",
            "  0%|          | 0/2 [00:00<?, ?it/s]\u001b[A\n",
            " 50%|█████     | 1/2 [00:00<00:00,  1.08it/s]\u001b[A\n",
            "100%|██████████| 2/2 [00:01<00:00,  1.23it/s]\n",
            " 35%|███▌      | 7/20 [05:13<09:39, 44.61s/it]"
          ]
        },
        {
          "output_type": "stream",
          "name": "stdout",
          "text": [
            "val Loss: 0.6317 Acc: 11.5000 f1_total: 0.7930\n",
            "lr = 7.98828125e-05\n",
            "\n",
            "Epoch 7/19\n",
            "--------------------\n"
          ]
        },
        {
          "output_type": "stream",
          "name": "stderr",
          "text": [
            "\n",
            "  0%|          | 0/33 [00:00<?, ?it/s]\u001b[A\n",
            "  3%|▎         | 1/33 [00:02<01:06,  2.09s/it]\u001b[A\n",
            "  6%|▌         | 2/33 [00:03<00:50,  1.62s/it]\u001b[A\n",
            "  9%|▉         | 3/33 [00:04<00:43,  1.46s/it]\u001b[A\n",
            " 12%|█▏        | 4/33 [00:05<00:40,  1.41s/it]\u001b[A\n",
            " 15%|█▌        | 5/33 [00:07<00:38,  1.38s/it]\u001b[A\n",
            " 18%|█▊        | 6/33 [00:08<00:36,  1.36s/it]\u001b[A\n",
            " 21%|██        | 7/33 [00:09<00:35,  1.35s/it]\u001b[A\n",
            " 24%|██▍       | 8/33 [00:11<00:32,  1.32s/it]\u001b[A\n",
            " 27%|██▋       | 9/33 [00:12<00:31,  1.31s/it]\u001b[A\n",
            " 30%|███       | 10/33 [00:13<00:29,  1.30s/it]\u001b[A\n",
            " 33%|███▎      | 11/33 [00:15<00:28,  1.29s/it]\u001b[A\n",
            " 36%|███▋      | 12/33 [00:16<00:27,  1.29s/it]\u001b[A\n",
            " 39%|███▉      | 13/33 [00:17<00:25,  1.28s/it]\u001b[A\n",
            " 42%|████▏     | 14/33 [00:18<00:24,  1.28s/it]\u001b[A\n",
            " 45%|████▌     | 15/33 [00:20<00:23,  1.29s/it]\u001b[A\n",
            " 48%|████▊     | 16/33 [00:21<00:22,  1.30s/it]\u001b[A\n",
            " 52%|█████▏    | 17/33 [00:22<00:21,  1.31s/it]\u001b[A\n",
            " 55%|█████▍    | 18/33 [00:24<00:19,  1.31s/it]\u001b[A\n",
            " 58%|█████▊    | 19/33 [00:25<00:18,  1.30s/it]\u001b[A\n",
            " 61%|██████    | 20/33 [00:26<00:16,  1.29s/it]\u001b[A\n",
            " 64%|██████▎   | 21/33 [00:27<00:15,  1.29s/it]\u001b[A\n",
            " 67%|██████▋   | 22/33 [00:29<00:14,  1.28s/it]\u001b[A\n",
            " 70%|██████▉   | 23/33 [00:30<00:12,  1.28s/it]\u001b[A\n",
            " 73%|███████▎  | 24/33 [00:31<00:11,  1.28s/it]\u001b[A\n",
            " 76%|███████▌  | 25/33 [00:33<00:10,  1.28s/it]\u001b[A\n",
            " 79%|███████▉  | 26/33 [00:34<00:08,  1.27s/it]\u001b[A\n",
            " 82%|████████▏ | 27/33 [00:35<00:07,  1.27s/it]\u001b[A\n",
            " 85%|████████▍ | 28/33 [00:36<00:06,  1.28s/it]\u001b[A\n",
            " 88%|████████▊ | 29/33 [00:38<00:05,  1.28s/it]\u001b[A\n",
            " 91%|█████████ | 30/33 [00:39<00:03,  1.28s/it]\u001b[A\n",
            " 94%|█████████▍| 31/33 [00:40<00:02,  1.27s/it]\u001b[A\n",
            " 97%|█████████▋| 32/33 [00:41<00:01,  1.27s/it]\u001b[A\n",
            "100%|██████████| 33/33 [00:42<00:00,  1.29s/it]\n"
          ]
        },
        {
          "output_type": "stream",
          "name": "stdout",
          "text": [
            "train Loss: 0.1402 Acc: 14.7273 f1_total: 0.9358\n",
            "lr = 7.34375e-05\n"
          ]
        },
        {
          "output_type": "stream",
          "name": "stderr",
          "text": [
            "\n",
            "  0%|          | 0/2 [00:00<?, ?it/s]\u001b[A\n",
            " 50%|█████     | 1/2 [00:00<00:00,  1.07it/s]\u001b[A\n",
            "100%|██████████| 2/2 [00:01<00:00,  1.23it/s]\n",
            " 40%|████      | 8/20 [05:57<08:54, 44.56s/it]"
          ]
        },
        {
          "output_type": "stream",
          "name": "stdout",
          "text": [
            "val Loss: 0.5831 Acc: 11.5000 f1_total: 0.8009\n",
            "lr = 7.34375e-05\n",
            "\n",
            "Epoch 8/19\n",
            "--------------------\n"
          ]
        },
        {
          "output_type": "stream",
          "name": "stderr",
          "text": [
            "\n",
            "  0%|          | 0/33 [00:00<?, ?it/s]\u001b[A\n",
            "  3%|▎         | 1/33 [00:02<01:07,  2.11s/it]\u001b[A\n",
            "  6%|▌         | 2/33 [00:03<00:49,  1.61s/it]\u001b[A\n",
            "  9%|▉         | 3/33 [00:04<00:43,  1.46s/it]\u001b[A\n",
            " 12%|█▏        | 4/33 [00:05<00:40,  1.40s/it]\u001b[A\n",
            " 15%|█▌        | 5/33 [00:07<00:38,  1.38s/it]\u001b[A\n",
            " 18%|█▊        | 6/33 [00:08<00:36,  1.36s/it]\u001b[A\n",
            " 21%|██        | 7/33 [00:09<00:35,  1.35s/it]\u001b[A\n",
            " 24%|██▍       | 8/33 [00:11<00:33,  1.33s/it]\u001b[A\n",
            " 27%|██▋       | 9/33 [00:12<00:31,  1.31s/it]\u001b[A\n",
            " 30%|███       | 10/33 [00:13<00:29,  1.30s/it]\u001b[A\n",
            " 33%|███▎      | 11/33 [00:15<00:28,  1.30s/it]\u001b[A\n",
            " 36%|███▋      | 12/33 [00:16<00:27,  1.29s/it]\u001b[A\n",
            " 39%|███▉      | 13/33 [00:17<00:25,  1.29s/it]\u001b[A\n",
            " 42%|████▏     | 14/33 [00:18<00:24,  1.28s/it]\u001b[A\n",
            " 45%|████▌     | 15/33 [00:20<00:22,  1.28s/it]\u001b[A\n",
            " 48%|████▊     | 16/33 [00:21<00:22,  1.30s/it]\u001b[A\n",
            " 52%|█████▏    | 17/33 [00:22<00:21,  1.32s/it]\u001b[A\n",
            " 55%|█████▍    | 18/33 [00:24<00:19,  1.32s/it]\u001b[A\n",
            " 58%|█████▊    | 19/33 [00:25<00:18,  1.32s/it]\u001b[A\n",
            " 61%|██████    | 20/33 [00:26<00:16,  1.30s/it]\u001b[A\n",
            " 64%|██████▎   | 21/33 [00:28<00:15,  1.29s/it]\u001b[A\n",
            " 67%|██████▋   | 22/33 [00:29<00:14,  1.29s/it]\u001b[A\n",
            " 70%|██████▉   | 23/33 [00:30<00:12,  1.28s/it]\u001b[A\n",
            " 73%|███████▎  | 24/33 [00:31<00:11,  1.28s/it]\u001b[A\n",
            " 76%|███████▌  | 25/33 [00:33<00:10,  1.28s/it]\u001b[A\n",
            " 79%|███████▉  | 26/33 [00:34<00:08,  1.27s/it]\u001b[A\n",
            " 82%|████████▏ | 27/33 [00:35<00:07,  1.27s/it]\u001b[A\n",
            " 85%|████████▍ | 28/33 [00:36<00:06,  1.28s/it]\u001b[A\n",
            " 88%|████████▊ | 29/33 [00:38<00:05,  1.29s/it]\u001b[A\n",
            " 91%|█████████ | 30/33 [00:39<00:03,  1.29s/it]\u001b[A\n",
            " 94%|█████████▍| 31/33 [00:40<00:02,  1.28s/it]\u001b[A\n",
            " 97%|█████████▋| 32/33 [00:42<00:01,  1.27s/it]\u001b[A\n",
            "100%|██████████| 33/33 [00:42<00:00,  1.29s/it]\n"
          ]
        },
        {
          "output_type": "stream",
          "name": "stdout",
          "text": [
            "train Loss: 0.1338 Acc: 14.6364 f1_total: 0.9236\n",
            "lr = 6.699218750000001e-05\n"
          ]
        },
        {
          "output_type": "stream",
          "name": "stderr",
          "text": [
            "\n",
            "  0%|          | 0/2 [00:00<?, ?it/s]\u001b[A\n",
            " 50%|█████     | 1/2 [00:01<00:01,  1.04s/it]\u001b[A\n",
            "100%|██████████| 2/2 [00:01<00:00,  1.15it/s]\n",
            " 45%|████▌     | 9/20 [06:42<08:10, 44.60s/it]"
          ]
        },
        {
          "output_type": "stream",
          "name": "stdout",
          "text": [
            "val Loss: 0.4898 Acc: 11.5000 f1_total: 0.7345\n",
            "lr = 6.699218750000001e-05\n",
            "\n",
            "Epoch 9/19\n",
            "--------------------\n"
          ]
        },
        {
          "output_type": "stream",
          "name": "stderr",
          "text": [
            "\n",
            "  0%|          | 0/33 [00:00<?, ?it/s]\u001b[A\n",
            "  3%|▎         | 1/33 [00:02<01:06,  2.08s/it]\u001b[A\n",
            "  6%|▌         | 2/33 [00:03<00:49,  1.61s/it]\u001b[A\n",
            "  9%|▉         | 3/33 [00:04<00:43,  1.45s/it]\u001b[A\n",
            " 12%|█▏        | 4/33 [00:05<00:40,  1.39s/it]\u001b[A\n",
            " 15%|█▌        | 5/33 [00:07<00:38,  1.36s/it]\u001b[A\n",
            " 18%|█▊        | 6/33 [00:08<00:36,  1.36s/it]\u001b[A\n",
            " 21%|██        | 7/33 [00:09<00:34,  1.34s/it]\u001b[A\n",
            " 24%|██▍       | 8/33 [00:11<00:33,  1.32s/it]\u001b[A\n",
            " 27%|██▋       | 9/33 [00:12<00:31,  1.30s/it]\u001b[A\n",
            " 30%|███       | 10/33 [00:13<00:29,  1.29s/it]\u001b[A\n",
            " 33%|███▎      | 11/33 [00:14<00:28,  1.29s/it]\u001b[A\n",
            " 36%|███▋      | 12/33 [00:16<00:26,  1.28s/it]\u001b[A\n",
            " 39%|███▉      | 13/33 [00:17<00:25,  1.28s/it]\u001b[A\n",
            " 42%|████▏     | 14/33 [00:18<00:24,  1.28s/it]\u001b[A\n",
            " 45%|████▌     | 15/33 [00:20<00:23,  1.28s/it]\u001b[A\n",
            " 48%|████▊     | 16/33 [00:21<00:21,  1.29s/it]\u001b[A\n",
            " 52%|█████▏    | 17/33 [00:22<00:20,  1.30s/it]\u001b[A\n",
            " 55%|█████▍    | 18/33 [00:24<00:19,  1.31s/it]\u001b[A\n",
            " 58%|█████▊    | 19/33 [00:25<00:18,  1.31s/it]\u001b[A\n",
            " 61%|██████    | 20/33 [00:26<00:16,  1.30s/it]\u001b[A\n",
            " 64%|██████▎   | 21/33 [00:27<00:15,  1.30s/it]\u001b[A\n",
            " 67%|██████▋   | 22/33 [00:29<00:14,  1.29s/it]\u001b[A\n",
            " 70%|██████▉   | 23/33 [00:30<00:12,  1.28s/it]\u001b[A\n",
            " 73%|███████▎  | 24/33 [00:31<00:11,  1.28s/it]\u001b[A\n",
            " 76%|███████▌  | 25/33 [00:33<00:10,  1.28s/it]\u001b[A\n",
            " 79%|███████▉  | 26/33 [00:34<00:08,  1.27s/it]\u001b[A\n",
            " 82%|████████▏ | 27/33 [00:35<00:07,  1.26s/it]\u001b[A\n",
            " 85%|████████▍ | 28/33 [00:36<00:06,  1.27s/it]\u001b[A\n",
            " 88%|████████▊ | 29/33 [00:38<00:05,  1.28s/it]\u001b[A\n",
            " 91%|█████████ | 30/33 [00:39<00:03,  1.28s/it]\u001b[A\n",
            " 94%|█████████▍| 31/33 [00:40<00:02,  1.28s/it]\u001b[A\n",
            " 97%|█████████▋| 32/33 [00:41<00:01,  1.27s/it]\u001b[A\n",
            "100%|██████████| 33/33 [00:42<00:00,  1.29s/it]\n"
          ]
        },
        {
          "output_type": "stream",
          "name": "stdout",
          "text": [
            "train Loss: 0.1672 Acc: 14.6970 f1_total: 0.9109\n",
            "lr = 6.0546875e-05\n"
          ]
        },
        {
          "output_type": "stream",
          "name": "stderr",
          "text": [
            "\n",
            "  0%|          | 0/2 [00:00<?, ?it/s]\u001b[A\n",
            " 50%|█████     | 1/2 [00:00<00:00,  1.07it/s]\u001b[A\n",
            "100%|██████████| 2/2 [00:01<00:00,  1.21it/s]\n",
            " 50%|█████     | 10/20 [07:26<07:25, 44.55s/it]"
          ]
        },
        {
          "output_type": "stream",
          "name": "stdout",
          "text": [
            "val Loss: 0.3798 Acc: 12.0000 f1_total: 0.7629\n",
            "lr = 6.0546875e-05\n",
            "\n",
            "Epoch 10/19\n",
            "--------------------\n"
          ]
        },
        {
          "output_type": "stream",
          "name": "stderr",
          "text": [
            "\n",
            "  0%|          | 0/33 [00:00<?, ?it/s]\u001b[A\n",
            "  3%|▎         | 1/33 [00:02<01:04,  2.02s/it]\u001b[A\n",
            "  6%|▌         | 2/33 [00:03<00:49,  1.59s/it]\u001b[A\n",
            "  9%|▉         | 3/33 [00:04<00:43,  1.44s/it]\u001b[A\n",
            " 12%|█▏        | 4/33 [00:05<00:39,  1.37s/it]\u001b[A\n",
            " 15%|█▌        | 5/33 [00:07<00:37,  1.36s/it]\u001b[A\n",
            " 18%|█▊        | 6/33 [00:08<00:36,  1.35s/it]\u001b[A\n",
            " 21%|██        | 7/33 [00:09<00:34,  1.34s/it]\u001b[A\n",
            " 24%|██▍       | 8/33 [00:11<00:33,  1.33s/it]\u001b[A\n",
            " 27%|██▋       | 9/33 [00:12<00:31,  1.32s/it]\u001b[A\n",
            " 30%|███       | 10/33 [00:13<00:29,  1.30s/it]\u001b[A\n",
            " 33%|███▎      | 11/33 [00:14<00:28,  1.30s/it]\u001b[A\n",
            " 36%|███▋      | 12/33 [00:16<00:27,  1.29s/it]\u001b[A\n",
            " 39%|███▉      | 13/33 [00:17<00:25,  1.29s/it]\u001b[A\n",
            " 42%|████▏     | 14/33 [00:18<00:24,  1.28s/it]\u001b[A\n",
            " 45%|████▌     | 15/33 [00:20<00:23,  1.28s/it]\u001b[A\n",
            " 48%|████▊     | 16/33 [00:21<00:21,  1.29s/it]\u001b[A\n",
            " 52%|█████▏    | 17/33 [00:22<00:20,  1.30s/it]\u001b[A\n",
            " 55%|█████▍    | 18/33 [00:24<00:19,  1.32s/it]\u001b[A\n",
            " 58%|█████▊    | 19/33 [00:25<00:18,  1.32s/it]\u001b[A\n",
            " 61%|██████    | 20/33 [00:26<00:17,  1.31s/it]\u001b[A\n",
            " 64%|██████▎   | 21/33 [00:27<00:15,  1.30s/it]\u001b[A\n",
            " 67%|██████▋   | 22/33 [00:29<00:14,  1.29s/it]\u001b[A\n",
            " 70%|██████▉   | 23/33 [00:30<00:12,  1.29s/it]\u001b[A\n",
            " 73%|███████▎  | 24/33 [00:31<00:11,  1.28s/it]\u001b[A\n",
            " 76%|███████▌  | 25/33 [00:33<00:10,  1.28s/it]\u001b[A\n",
            " 79%|███████▉  | 26/33 [00:34<00:08,  1.27s/it]\u001b[A\n",
            " 82%|████████▏ | 27/33 [00:35<00:07,  1.27s/it]\u001b[A\n",
            " 85%|████████▍ | 28/33 [00:36<00:06,  1.28s/it]\u001b[A\n",
            " 88%|████████▊ | 29/33 [00:38<00:05,  1.29s/it]\u001b[A\n",
            " 91%|█████████ | 30/33 [00:39<00:03,  1.29s/it]\u001b[A\n",
            " 94%|█████████▍| 31/33 [00:40<00:02,  1.29s/it]\u001b[A\n",
            " 97%|█████████▋| 32/33 [00:42<00:01,  1.28s/it]\u001b[A\n",
            "100%|██████████| 33/33 [00:42<00:00,  1.29s/it]\n"
          ]
        },
        {
          "output_type": "stream",
          "name": "stdout",
          "text": [
            "train Loss: 0.1897 Acc: 14.5758 f1_total: 0.8976\n",
            "lr = 5.4101562500000005e-05\n"
          ]
        },
        {
          "output_type": "stream",
          "name": "stderr",
          "text": [
            "\n",
            "  0%|          | 0/2 [00:00<?, ?it/s]\u001b[A\n",
            " 50%|█████     | 1/2 [00:00<00:00,  1.05it/s]\u001b[A\n",
            "100%|██████████| 2/2 [00:01<00:00,  1.21it/s]\n"
          ]
        },
        {
          "output_type": "stream",
          "name": "stdout",
          "text": [
            "val Loss: 0.3169 Acc: 12.5000 f1_total: 0.8847\n",
            "lr = 5.4101562500000005e-05\n",
            "Новая лучшая модель!\n"
          ]
        },
        {
          "output_type": "stream",
          "name": "stderr",
          "text": [
            "\r 55%|█████▌    | 11/20 [08:11<06:41, 44.60s/it]"
          ]
        },
        {
          "output_type": "stream",
          "name": "stdout",
          "text": [
            "\n",
            "Epoch 11/19\n",
            "--------------------\n"
          ]
        },
        {
          "output_type": "stream",
          "name": "stderr",
          "text": [
            "\n",
            "  0%|          | 0/33 [00:00<?, ?it/s]\u001b[A\n",
            "  3%|▎         | 1/33 [00:02<01:06,  2.09s/it]\u001b[A\n",
            "  6%|▌         | 2/33 [00:03<00:49,  1.61s/it]\u001b[A\n",
            "  9%|▉         | 3/33 [00:04<00:43,  1.46s/it]\u001b[A\n",
            " 12%|█▏        | 4/33 [00:05<00:40,  1.39s/it]\u001b[A\n",
            " 15%|█▌        | 5/33 [00:07<00:38,  1.37s/it]\u001b[A\n",
            " 18%|█▊        | 6/33 [00:08<00:36,  1.36s/it]\u001b[A\n",
            " 21%|██        | 7/33 [00:09<00:34,  1.34s/it]\u001b[A\n",
            " 24%|██▍       | 8/33 [00:11<00:33,  1.33s/it]\u001b[A\n",
            " 27%|██▋       | 9/33 [00:12<00:31,  1.31s/it]\u001b[A\n",
            " 30%|███       | 10/33 [00:13<00:29,  1.30s/it]\u001b[A\n",
            " 33%|███▎      | 11/33 [00:15<00:28,  1.29s/it]\u001b[A\n",
            " 36%|███▋      | 12/33 [00:16<00:27,  1.29s/it]\u001b[A\n",
            " 39%|███▉      | 13/33 [00:17<00:25,  1.28s/it]\u001b[A\n",
            " 42%|████▏     | 14/33 [00:18<00:24,  1.28s/it]\u001b[A\n",
            " 45%|████▌     | 15/33 [00:20<00:23,  1.28s/it]\u001b[A\n",
            " 48%|████▊     | 16/33 [00:21<00:21,  1.28s/it]\u001b[A\n",
            " 52%|█████▏    | 17/33 [00:22<00:20,  1.29s/it]\u001b[A\n",
            " 55%|█████▍    | 18/33 [00:24<00:19,  1.30s/it]\u001b[A\n",
            " 58%|█████▊    | 19/33 [00:25<00:18,  1.31s/it]\u001b[A\n",
            " 61%|██████    | 20/33 [00:26<00:16,  1.31s/it]\u001b[A\n",
            " 64%|██████▎   | 21/33 [00:27<00:15,  1.30s/it]\u001b[A\n",
            " 67%|██████▋   | 22/33 [00:29<00:14,  1.29s/it]\u001b[A\n",
            " 70%|██████▉   | 23/33 [00:30<00:12,  1.29s/it]\u001b[A\n",
            " 73%|███████▎  | 24/33 [00:31<00:11,  1.28s/it]\u001b[A\n",
            " 76%|███████▌  | 25/33 [00:33<00:10,  1.28s/it]\u001b[A\n",
            " 79%|███████▉  | 26/33 [00:34<00:08,  1.27s/it]\u001b[A\n",
            " 82%|████████▏ | 27/33 [00:35<00:07,  1.27s/it]\u001b[A\n",
            " 85%|████████▍ | 28/33 [00:36<00:06,  1.28s/it]\u001b[A\n",
            " 88%|████████▊ | 29/33 [00:38<00:05,  1.28s/it]\u001b[A\n",
            " 91%|█████████ | 30/33 [00:39<00:03,  1.29s/it]\u001b[A\n",
            " 94%|█████████▍| 31/33 [00:40<00:02,  1.29s/it]\u001b[A\n",
            " 97%|█████████▋| 32/33 [00:42<00:01,  1.28s/it]\u001b[A\n",
            "100%|██████████| 33/33 [00:42<00:00,  1.29s/it]\n"
          ]
        },
        {
          "output_type": "stream",
          "name": "stdout",
          "text": [
            "train Loss: 0.1377 Acc: 14.7576 f1_total: 0.9249\n",
            "lr = 4.765625e-05\n"
          ]
        },
        {
          "output_type": "stream",
          "name": "stderr",
          "text": [
            "\n",
            "  0%|          | 0/2 [00:00<?, ?it/s]\u001b[A\n",
            " 50%|█████     | 1/2 [00:00<00:00,  1.06it/s]\u001b[A\n",
            "100%|██████████| 2/2 [00:01<00:00,  1.22it/s]\n",
            " 60%|██████    | 12/20 [08:55<05:56, 44.57s/it]"
          ]
        },
        {
          "output_type": "stream",
          "name": "stdout",
          "text": [
            "val Loss: 0.4717 Acc: 12.0000 f1_total: 0.7308\n",
            "lr = 4.765625e-05\n",
            "\n",
            "Epoch 12/19\n",
            "--------------------\n"
          ]
        },
        {
          "output_type": "stream",
          "name": "stderr",
          "text": [
            "\n",
            "  0%|          | 0/33 [00:00<?, ?it/s]\u001b[A\n",
            "  3%|▎         | 1/33 [00:01<01:02,  1.95s/it]\u001b[A\n",
            "  6%|▌         | 2/33 [00:03<00:48,  1.55s/it]\u001b[A\n",
            "  9%|▉         | 3/33 [00:04<00:42,  1.43s/it]\u001b[A\n",
            " 12%|█▏        | 4/33 [00:05<00:39,  1.37s/it]\u001b[A\n",
            " 15%|█▌        | 5/33 [00:07<00:37,  1.35s/it]\u001b[A\n",
            " 18%|█▊        | 6/33 [00:08<00:36,  1.35s/it]\u001b[A\n",
            " 21%|██        | 7/33 [00:09<00:34,  1.35s/it]\u001b[A\n",
            " 24%|██▍       | 8/33 [00:11<00:33,  1.35s/it]\u001b[A\n",
            " 27%|██▋       | 9/33 [00:12<00:31,  1.32s/it]\u001b[A\n",
            " 30%|███       | 10/33 [00:13<00:30,  1.31s/it]\u001b[A\n",
            " 33%|███▎      | 11/33 [00:14<00:28,  1.30s/it]\u001b[A\n",
            " 36%|███▋      | 12/33 [00:16<00:27,  1.29s/it]\u001b[A\n",
            " 39%|███▉      | 13/33 [00:17<00:25,  1.28s/it]\u001b[A\n",
            " 42%|████▏     | 14/33 [00:18<00:24,  1.28s/it]\u001b[A\n",
            " 45%|████▌     | 15/33 [00:20<00:23,  1.28s/it]\u001b[A\n",
            " 48%|████▊     | 16/33 [00:21<00:21,  1.28s/it]\u001b[A\n",
            " 52%|█████▏    | 17/33 [00:22<00:20,  1.29s/it]\u001b[A\n",
            " 55%|█████▍    | 18/33 [00:23<00:19,  1.31s/it]\u001b[A\n",
            " 58%|█████▊    | 19/33 [00:25<00:18,  1.32s/it]\u001b[A\n",
            " 61%|██████    | 20/33 [00:26<00:17,  1.32s/it]\u001b[A\n",
            " 64%|██████▎   | 21/33 [00:27<00:15,  1.31s/it]\u001b[A\n",
            " 67%|██████▋   | 22/33 [00:29<00:14,  1.30s/it]\u001b[A\n",
            " 70%|██████▉   | 23/33 [00:30<00:12,  1.29s/it]\u001b[A\n",
            " 73%|███████▎  | 24/33 [00:31<00:11,  1.29s/it]\u001b[A\n",
            " 76%|███████▌  | 25/33 [00:33<00:10,  1.28s/it]\u001b[A\n",
            " 79%|███████▉  | 26/33 [00:34<00:08,  1.27s/it]\u001b[A\n",
            " 82%|████████▏ | 27/33 [00:35<00:07,  1.27s/it]\u001b[A\n",
            " 85%|████████▍ | 28/33 [00:36<00:06,  1.26s/it]\u001b[A\n",
            " 88%|████████▊ | 29/33 [00:38<00:05,  1.27s/it]\u001b[A\n",
            " 91%|█████████ | 30/33 [00:39<00:03,  1.28s/it]\u001b[A\n",
            " 94%|█████████▍| 31/33 [00:40<00:02,  1.28s/it]\u001b[A\n",
            " 97%|█████████▋| 32/33 [00:41<00:01,  1.27s/it]\u001b[A\n",
            "100%|██████████| 33/33 [00:42<00:00,  1.29s/it]\n"
          ]
        },
        {
          "output_type": "stream",
          "name": "stdout",
          "text": [
            "train Loss: 0.1714 Acc: 14.8485 f1_total: 0.9119\n",
            "lr = 4.12109375e-05\n"
          ]
        },
        {
          "output_type": "stream",
          "name": "stderr",
          "text": [
            "\n",
            "  0%|          | 0/2 [00:00<?, ?it/s]\u001b[A\n",
            " 50%|█████     | 1/2 [00:00<00:00,  1.07it/s]\u001b[A\n",
            "100%|██████████| 2/2 [00:01<00:00,  1.22it/s]\n",
            " 65%|██████▌   | 13/20 [09:40<05:11, 44.53s/it]"
          ]
        },
        {
          "output_type": "stream",
          "name": "stdout",
          "text": [
            "val Loss: 0.4181 Acc: 12.0000 f1_total: 0.8443\n",
            "lr = 4.12109375e-05\n",
            "\n",
            "Epoch 13/19\n",
            "--------------------\n"
          ]
        },
        {
          "output_type": "stream",
          "name": "stderr",
          "text": [
            "\n",
            "  0%|          | 0/33 [00:00<?, ?it/s]\u001b[A\n",
            "  3%|▎         | 1/33 [00:02<01:06,  2.08s/it]\u001b[A\n",
            "  6%|▌         | 2/33 [00:03<00:49,  1.61s/it]\u001b[A\n",
            "  9%|▉         | 3/33 [00:04<00:43,  1.46s/it]\u001b[A\n",
            " 12%|█▏        | 4/33 [00:05<00:40,  1.38s/it]\u001b[A\n",
            " 15%|█▌        | 5/33 [00:07<00:37,  1.35s/it]\u001b[A\n",
            " 18%|█▊        | 6/33 [00:08<00:36,  1.34s/it]\u001b[A\n",
            " 21%|██        | 7/33 [00:09<00:35,  1.35s/it]\u001b[A\n",
            " 24%|██▍       | 8/33 [00:11<00:33,  1.35s/it]\u001b[A\n",
            " 27%|██▋       | 9/33 [00:12<00:31,  1.32s/it]\u001b[A\n",
            " 30%|███       | 10/33 [00:13<00:30,  1.31s/it]\u001b[A\n",
            " 33%|███▎      | 11/33 [00:15<00:28,  1.30s/it]\u001b[A\n",
            " 36%|███▋      | 12/33 [00:16<00:27,  1.29s/it]\u001b[A\n",
            " 39%|███▉      | 13/33 [00:17<00:25,  1.29s/it]\u001b[A\n",
            " 42%|████▏     | 14/33 [00:18<00:24,  1.28s/it]\u001b[A\n",
            " 45%|████▌     | 15/33 [00:20<00:23,  1.28s/it]\u001b[A\n",
            " 48%|████▊     | 16/33 [00:21<00:21,  1.28s/it]\u001b[A\n",
            " 52%|█████▏    | 17/33 [00:22<00:20,  1.30s/it]\u001b[A\n",
            " 55%|█████▍    | 18/33 [00:24<00:19,  1.30s/it]\u001b[A\n",
            " 58%|█████▊    | 19/33 [00:25<00:18,  1.32s/it]\u001b[A\n",
            " 61%|██████    | 20/33 [00:26<00:17,  1.32s/it]\u001b[A\n",
            " 64%|██████▎   | 21/33 [00:28<00:15,  1.31s/it]\u001b[A\n",
            " 67%|██████▋   | 22/33 [00:29<00:14,  1.30s/it]\u001b[A\n",
            " 70%|██████▉   | 23/33 [00:30<00:12,  1.30s/it]\u001b[A\n",
            " 73%|███████▎  | 24/33 [00:31<00:11,  1.29s/it]\u001b[A\n",
            " 76%|███████▌  | 25/33 [00:33<00:10,  1.28s/it]\u001b[A\n",
            " 79%|███████▉  | 26/33 [00:34<00:08,  1.27s/it]\u001b[A\n",
            " 82%|████████▏ | 27/33 [00:35<00:07,  1.27s/it]\u001b[A\n",
            " 85%|████████▍ | 28/33 [00:36<00:06,  1.27s/it]\u001b[A\n",
            " 88%|████████▊ | 29/33 [00:38<00:05,  1.28s/it]\u001b[A\n",
            " 91%|█████████ | 30/33 [00:39<00:03,  1.28s/it]\u001b[A\n",
            " 94%|█████████▍| 31/33 [00:40<00:02,  1.28s/it]\u001b[A\n",
            " 97%|█████████▋| 32/33 [00:42<00:01,  1.29s/it]\u001b[A\n",
            "100%|██████████| 33/33 [00:42<00:00,  1.29s/it]\n"
          ]
        },
        {
          "output_type": "stream",
          "name": "stdout",
          "text": [
            "train Loss: 0.1315 Acc: 14.7879 f1_total: 0.9306\n",
            "lr = 3.4765625e-05\n"
          ]
        },
        {
          "output_type": "stream",
          "name": "stderr",
          "text": [
            "\n",
            "  0%|          | 0/2 [00:00<?, ?it/s]\u001b[A\n",
            " 50%|█████     | 1/2 [00:00<00:00,  1.06it/s]\u001b[A\n",
            "100%|██████████| 2/2 [00:01<00:00,  1.22it/s]\n",
            " 70%|███████   | 14/20 [10:24<04:27, 44.55s/it]"
          ]
        },
        {
          "output_type": "stream",
          "name": "stdout",
          "text": [
            "val Loss: 0.3648 Acc: 12.5000 f1_total: 0.8696\n",
            "lr = 3.4765625e-05\n",
            "\n",
            "Epoch 14/19\n",
            "--------------------\n"
          ]
        },
        {
          "output_type": "stream",
          "name": "stderr",
          "text": [
            "\n",
            "  0%|          | 0/33 [00:00<?, ?it/s]\u001b[A\n",
            "  3%|▎         | 1/33 [00:02<01:07,  2.10s/it]\u001b[A\n",
            "  6%|▌         | 2/33 [00:03<00:50,  1.61s/it]\u001b[A\n",
            "  9%|▉         | 3/33 [00:04<00:43,  1.46s/it]\u001b[A\n",
            " 12%|█▏        | 4/33 [00:05<00:40,  1.39s/it]\u001b[A\n",
            " 15%|█▌        | 5/33 [00:07<00:37,  1.35s/it]\u001b[A\n",
            " 18%|█▊        | 6/33 [00:08<00:36,  1.34s/it]\u001b[A\n",
            " 21%|██        | 7/33 [00:09<00:34,  1.34s/it]\u001b[A\n",
            " 24%|██▍       | 8/33 [00:11<00:33,  1.34s/it]\u001b[A\n",
            " 27%|██▋       | 9/33 [00:12<00:31,  1.33s/it]\u001b[A\n",
            " 30%|███       | 10/33 [00:13<00:30,  1.31s/it]\u001b[A\n",
            " 33%|███▎      | 11/33 [00:15<00:28,  1.30s/it]\u001b[A\n",
            " 36%|███▋      | 12/33 [00:16<00:27,  1.29s/it]\u001b[A\n",
            " 39%|███▉      | 13/33 [00:17<00:25,  1.29s/it]\u001b[A\n",
            " 42%|████▏     | 14/33 [00:18<00:24,  1.29s/it]\u001b[A\n",
            " 45%|████▌     | 15/33 [00:20<00:23,  1.28s/it]\u001b[A\n",
            " 48%|████▊     | 16/33 [00:21<00:21,  1.28s/it]\u001b[A\n",
            " 52%|█████▏    | 17/33 [00:22<00:20,  1.29s/it]\u001b[A\n",
            " 55%|█████▍    | 18/33 [00:24<00:19,  1.30s/it]\u001b[A\n",
            " 58%|█████▊    | 19/33 [00:25<00:18,  1.32s/it]\u001b[A\n",
            " 61%|██████    | 20/33 [00:26<00:17,  1.32s/it]\u001b[A\n",
            " 64%|██████▎   | 21/33 [00:28<00:15,  1.31s/it]\u001b[A\n",
            " 67%|██████▋   | 22/33 [00:29<00:14,  1.30s/it]\u001b[A\n",
            " 70%|██████▉   | 23/33 [00:30<00:12,  1.29s/it]\u001b[A\n",
            " 73%|███████▎  | 24/33 [00:31<00:11,  1.28s/it]\u001b[A\n",
            " 76%|███████▌  | 25/33 [00:33<00:10,  1.28s/it]\u001b[A\n",
            " 79%|███████▉  | 26/33 [00:34<00:08,  1.27s/it]\u001b[A\n",
            " 82%|████████▏ | 27/33 [00:35<00:07,  1.26s/it]\u001b[A\n",
            " 85%|████████▍ | 28/33 [00:36<00:06,  1.26s/it]\u001b[A\n",
            " 88%|████████▊ | 29/33 [00:38<00:05,  1.28s/it]\u001b[A\n",
            " 91%|█████████ | 30/33 [00:39<00:03,  1.28s/it]\u001b[A\n",
            " 94%|█████████▍| 31/33 [00:40<00:02,  1.28s/it]\u001b[A\n",
            " 97%|█████████▋| 32/33 [00:42<00:01,  1.29s/it]\u001b[A\n",
            "100%|██████████| 33/33 [00:42<00:00,  1.29s/it]\n"
          ]
        },
        {
          "output_type": "stream",
          "name": "stdout",
          "text": [
            "train Loss: 0.1145 Acc: 14.9394 f1_total: 0.9400\n",
            "lr = 2.83203125e-05\n"
          ]
        },
        {
          "output_type": "stream",
          "name": "stderr",
          "text": [
            "\n",
            "  0%|          | 0/2 [00:00<?, ?it/s]\u001b[A\n",
            " 50%|█████     | 1/2 [00:00<00:00,  1.07it/s]\u001b[A\n",
            "100%|██████████| 2/2 [00:01<00:00,  1.21it/s]\n",
            " 75%|███████▌  | 15/20 [11:09<03:42, 44.56s/it]"
          ]
        },
        {
          "output_type": "stream",
          "name": "stdout",
          "text": [
            "val Loss: 0.2558 Acc: 12.5000 f1_total: 0.8696\n",
            "lr = 2.83203125e-05\n",
            "\n",
            "Epoch 15/19\n",
            "--------------------\n"
          ]
        },
        {
          "output_type": "stream",
          "name": "stderr",
          "text": [
            "\n",
            "  0%|          | 0/33 [00:00<?, ?it/s]\u001b[A\n",
            "  3%|▎         | 1/33 [00:02<01:07,  2.11s/it]\u001b[A\n",
            "  6%|▌         | 2/33 [00:03<00:50,  1.62s/it]\u001b[A\n",
            "  9%|▉         | 3/33 [00:04<00:43,  1.46s/it]\u001b[A\n",
            " 12%|█▏        | 4/33 [00:05<00:40,  1.39s/it]\u001b[A\n",
            " 15%|█▌        | 5/33 [00:07<00:37,  1.35s/it]\u001b[A\n",
            " 18%|█▊        | 6/33 [00:08<00:36,  1.34s/it]\u001b[A\n",
            " 21%|██        | 7/33 [00:09<00:34,  1.33s/it]\u001b[A\n",
            " 24%|██▍       | 8/33 [00:11<00:33,  1.33s/it]\u001b[A\n",
            " 27%|██▋       | 9/33 [00:12<00:31,  1.33s/it]\u001b[A\n",
            " 30%|███       | 10/33 [00:13<00:30,  1.31s/it]\u001b[A\n",
            " 33%|███▎      | 11/33 [00:15<00:28,  1.30s/it]\u001b[A\n",
            " 36%|███▋      | 12/33 [00:16<00:27,  1.29s/it]\u001b[A\n",
            " 39%|███▉      | 13/33 [00:17<00:25,  1.29s/it]\u001b[A\n",
            " 42%|████▏     | 14/33 [00:18<00:24,  1.28s/it]\u001b[A\n",
            " 45%|████▌     | 15/33 [00:20<00:23,  1.28s/it]\u001b[A\n",
            " 48%|████▊     | 16/33 [00:21<00:21,  1.28s/it]\u001b[A\n",
            " 52%|█████▏    | 17/33 [00:22<00:20,  1.28s/it]\u001b[A\n",
            " 55%|█████▍    | 18/33 [00:24<00:19,  1.30s/it]\u001b[A\n",
            " 58%|█████▊    | 19/33 [00:25<00:18,  1.31s/it]\u001b[A\n",
            " 61%|██████    | 20/33 [00:26<00:17,  1.32s/it]\u001b[A\n",
            " 64%|██████▎   | 21/33 [00:28<00:15,  1.31s/it]\u001b[A\n",
            " 67%|██████▋   | 22/33 [00:29<00:14,  1.30s/it]\u001b[A\n",
            " 70%|██████▉   | 23/33 [00:30<00:12,  1.29s/it]\u001b[A\n",
            " 73%|███████▎  | 24/33 [00:31<00:11,  1.29s/it]\u001b[A\n",
            " 76%|███████▌  | 25/33 [00:33<00:10,  1.28s/it]\u001b[A\n",
            " 79%|███████▉  | 26/33 [00:34<00:08,  1.27s/it]\u001b[A\n",
            " 82%|████████▏ | 27/33 [00:35<00:07,  1.27s/it]\u001b[A\n",
            " 85%|████████▍ | 28/33 [00:36<00:06,  1.27s/it]\u001b[A\n",
            " 88%|████████▊ | 29/33 [00:38<00:05,  1.27s/it]\u001b[A\n",
            " 91%|█████████ | 30/33 [00:39<00:03,  1.28s/it]\u001b[A\n",
            " 94%|█████████▍| 31/33 [00:40<00:02,  1.29s/it]\u001b[A\n",
            " 97%|█████████▋| 32/33 [00:42<00:01,  1.29s/it]\u001b[A\n",
            "100%|██████████| 33/33 [00:42<00:00,  1.29s/it]\n"
          ]
        },
        {
          "output_type": "stream",
          "name": "stdout",
          "text": [
            "train Loss: 0.1007 Acc: 14.8788 f1_total: 0.9406\n",
            "lr = 2.1875e-05\n"
          ]
        },
        {
          "output_type": "stream",
          "name": "stderr",
          "text": [
            "\n",
            "  0%|          | 0/2 [00:00<?, ?it/s]\u001b[A\n",
            " 50%|█████     | 1/2 [00:00<00:00,  1.06it/s]\u001b[A\n",
            "100%|██████████| 2/2 [00:01<00:00,  1.22it/s]\n",
            " 80%|████████  | 16/20 [11:54<02:58, 44.57s/it]"
          ]
        },
        {
          "output_type": "stream",
          "name": "stdout",
          "text": [
            "val Loss: 0.2086 Acc: 12.5000 f1_total: 0.8734\n",
            "lr = 2.1875e-05\n",
            "\n",
            "Epoch 16/19\n",
            "--------------------\n"
          ]
        },
        {
          "output_type": "stream",
          "name": "stderr",
          "text": [
            "\n",
            "  0%|          | 0/33 [00:00<?, ?it/s]\u001b[A\n",
            "  3%|▎         | 1/33 [00:02<01:06,  2.07s/it]\u001b[A\n",
            "  6%|▌         | 2/33 [00:03<00:49,  1.60s/it]\u001b[A\n",
            "  9%|▉         | 3/33 [00:04<00:43,  1.45s/it]\u001b[A\n",
            " 12%|█▏        | 4/33 [00:05<00:40,  1.38s/it]\u001b[A\n",
            " 15%|█▌        | 5/33 [00:07<00:37,  1.34s/it]\u001b[A\n",
            " 18%|█▊        | 6/33 [00:08<00:35,  1.33s/it]\u001b[A\n",
            " 21%|██        | 7/33 [00:09<00:34,  1.33s/it]\u001b[A\n",
            " 24%|██▍       | 8/33 [00:11<00:33,  1.32s/it]\u001b[A\n",
            " 27%|██▋       | 9/33 [00:12<00:31,  1.32s/it]\u001b[A\n",
            " 30%|███       | 10/33 [00:13<00:30,  1.30s/it]\u001b[A\n",
            " 33%|███▎      | 11/33 [00:14<00:28,  1.30s/it]\u001b[A\n",
            " 36%|███▋      | 12/33 [00:16<00:27,  1.29s/it]\u001b[A\n",
            " 39%|███▉      | 13/33 [00:17<00:25,  1.29s/it]\u001b[A\n",
            " 42%|████▏     | 14/33 [00:18<00:24,  1.28s/it]\u001b[A\n",
            " 45%|████▌     | 15/33 [00:20<00:23,  1.28s/it]\u001b[A\n",
            " 48%|████▊     | 16/33 [00:21<00:21,  1.28s/it]\u001b[A\n",
            " 52%|█████▏    | 17/33 [00:22<00:20,  1.28s/it]\u001b[A\n",
            " 55%|█████▍    | 18/33 [00:23<00:19,  1.30s/it]\u001b[A\n",
            " 58%|█████▊    | 19/33 [00:25<00:18,  1.31s/it]\u001b[A\n",
            " 61%|██████    | 20/33 [00:26<00:17,  1.31s/it]\u001b[A\n",
            " 64%|██████▎   | 21/33 [00:27<00:15,  1.32s/it]\u001b[A\n",
            " 67%|██████▋   | 22/33 [00:29<00:14,  1.30s/it]\u001b[A\n",
            " 70%|██████▉   | 23/33 [00:30<00:12,  1.30s/it]\u001b[A\n",
            " 73%|███████▎  | 24/33 [00:31<00:11,  1.29s/it]\u001b[A\n",
            " 76%|███████▌  | 25/33 [00:33<00:10,  1.28s/it]\u001b[A\n",
            " 79%|███████▉  | 26/33 [00:34<00:08,  1.27s/it]\u001b[A\n",
            " 82%|████████▏ | 27/33 [00:35<00:07,  1.27s/it]\u001b[A\n",
            " 85%|████████▍ | 28/33 [00:36<00:06,  1.26s/it]\u001b[A\n",
            " 88%|████████▊ | 29/33 [00:38<00:05,  1.26s/it]\u001b[A\n",
            " 91%|█████████ | 30/33 [00:39<00:03,  1.27s/it]\u001b[A\n",
            " 94%|█████████▍| 31/33 [00:40<00:02,  1.28s/it]\u001b[A\n",
            " 97%|█████████▋| 32/33 [00:41<00:01,  1.28s/it]\u001b[A\n",
            "100%|██████████| 33/33 [00:42<00:00,  1.29s/it]\n"
          ]
        },
        {
          "output_type": "stream",
          "name": "stdout",
          "text": [
            "train Loss: 0.1074 Acc: 14.9697 f1_total: 0.9534\n",
            "lr = 1.54296875e-05\n"
          ]
        },
        {
          "output_type": "stream",
          "name": "stderr",
          "text": [
            "\n",
            "  0%|          | 0/2 [00:00<?, ?it/s]\u001b[A\n",
            " 50%|█████     | 1/2 [00:00<00:00,  1.06it/s]\u001b[A\n",
            "100%|██████████| 2/2 [00:01<00:00,  1.21it/s]\n",
            " 85%|████████▌ | 17/20 [12:38<02:13, 44.54s/it]"
          ]
        },
        {
          "output_type": "stream",
          "name": "stdout",
          "text": [
            "val Loss: 0.1949 Acc: 12.5000 f1_total: 0.8745\n",
            "lr = 1.54296875e-05\n",
            "\n",
            "Epoch 17/19\n",
            "--------------------\n"
          ]
        },
        {
          "output_type": "stream",
          "name": "stderr",
          "text": [
            "\n",
            "  0%|          | 0/33 [00:00<?, ?it/s]\u001b[A\n",
            "  3%|▎         | 1/33 [00:02<01:07,  2.12s/it]\u001b[A\n",
            "  6%|▌         | 2/33 [00:03<00:50,  1.62s/it]\u001b[A\n",
            "  9%|▉         | 3/33 [00:04<00:43,  1.47s/it]\u001b[A\n",
            " 12%|█▏        | 4/33 [00:05<00:40,  1.39s/it]\u001b[A\n",
            " 15%|█▌        | 5/33 [00:07<00:37,  1.35s/it]\u001b[A\n",
            " 18%|█▊        | 6/33 [00:08<00:36,  1.34s/it]\u001b[A\n",
            " 21%|██        | 7/33 [00:09<00:34,  1.33s/it]\u001b[A\n",
            " 24%|██▍       | 8/33 [00:11<00:33,  1.33s/it]\u001b[A\n",
            " 27%|██▋       | 9/33 [00:12<00:32,  1.34s/it]\u001b[A\n",
            " 30%|███       | 10/33 [00:13<00:30,  1.32s/it]\u001b[A\n",
            " 33%|███▎      | 11/33 [00:15<00:28,  1.30s/it]\u001b[A\n",
            " 36%|███▋      | 12/33 [00:16<00:27,  1.29s/it]\u001b[A\n",
            " 39%|███▉      | 13/33 [00:17<00:25,  1.28s/it]\u001b[A\n",
            " 42%|████▏     | 14/33 [00:18<00:24,  1.28s/it]\u001b[A\n",
            " 45%|████▌     | 15/33 [00:20<00:23,  1.28s/it]\u001b[A\n",
            " 48%|████▊     | 16/33 [00:21<00:21,  1.28s/it]\u001b[A\n",
            " 52%|█████▏    | 17/33 [00:22<00:20,  1.28s/it]\u001b[A\n",
            " 55%|█████▍    | 18/33 [00:24<00:19,  1.30s/it]\u001b[A\n",
            " 58%|█████▊    | 19/33 [00:25<00:18,  1.31s/it]\u001b[A\n",
            " 61%|██████    | 20/33 [00:26<00:17,  1.32s/it]\u001b[A\n",
            " 64%|██████▎   | 21/33 [00:28<00:15,  1.32s/it]\u001b[A\n",
            " 67%|██████▋   | 22/33 [00:29<00:14,  1.32s/it]\u001b[A\n",
            " 70%|██████▉   | 23/33 [00:30<00:13,  1.32s/it]\u001b[A\n",
            " 73%|███████▎  | 24/33 [00:32<00:11,  1.32s/it]\u001b[A\n",
            " 76%|███████▌  | 25/33 [00:33<00:10,  1.31s/it]\u001b[A\n",
            " 79%|███████▉  | 26/33 [00:34<00:09,  1.31s/it]\u001b[A\n",
            " 82%|████████▏ | 27/33 [00:35<00:07,  1.29s/it]\u001b[A\n",
            " 85%|████████▍ | 28/33 [00:37<00:06,  1.28s/it]\u001b[A\n",
            " 88%|████████▊ | 29/33 [00:38<00:05,  1.28s/it]\u001b[A\n",
            " 91%|█████████ | 30/33 [00:39<00:03,  1.28s/it]\u001b[A\n",
            " 94%|█████████▍| 31/33 [00:41<00:02,  1.28s/it]\u001b[A\n",
            " 97%|█████████▋| 32/33 [00:42<00:01,  1.29s/it]\u001b[A\n",
            "100%|██████████| 33/33 [00:42<00:00,  1.30s/it]\n"
          ]
        },
        {
          "output_type": "stream",
          "name": "stdout",
          "text": [
            "train Loss: 0.1015 Acc: 15.0606 f1_total: 0.9593\n",
            "lr = 8.984375e-06\n"
          ]
        },
        {
          "output_type": "stream",
          "name": "stderr",
          "text": [
            "\n",
            "  0%|          | 0/2 [00:00<?, ?it/s]\u001b[A\n",
            " 50%|█████     | 1/2 [00:00<00:00,  1.07it/s]\u001b[A\n",
            "100%|██████████| 2/2 [00:01<00:00,  1.23it/s]\n"
          ]
        },
        {
          "output_type": "stream",
          "name": "stdout",
          "text": [
            "val Loss: 0.1505 Acc: 12.5000 f1_total: 0.9009\n",
            "lr = 8.984375e-06\n",
            "Новая лучшая модель!\n"
          ]
        },
        {
          "output_type": "stream",
          "name": "stderr",
          "text": [
            "\r 90%|█████████ | 18/20 [13:23<01:29, 44.67s/it]"
          ]
        },
        {
          "output_type": "stream",
          "name": "stdout",
          "text": [
            "\n",
            "Epoch 18/19\n",
            "--------------------\n"
          ]
        },
        {
          "output_type": "stream",
          "name": "stderr",
          "text": [
            "\n",
            "  0%|          | 0/33 [00:00<?, ?it/s]\u001b[A\n",
            "  3%|▎         | 1/33 [00:02<01:05,  2.05s/it]\u001b[A\n",
            "  6%|▌         | 2/33 [00:03<00:49,  1.60s/it]\u001b[A\n",
            "  9%|▉         | 3/33 [00:04<00:43,  1.46s/it]\u001b[A\n",
            " 12%|█▏        | 4/33 [00:05<00:40,  1.39s/it]\u001b[A\n",
            " 15%|█▌        | 5/33 [00:07<00:37,  1.35s/it]\u001b[A\n",
            " 18%|█▊        | 6/33 [00:08<00:36,  1.34s/it]\u001b[A\n",
            " 21%|██        | 7/33 [00:09<00:34,  1.34s/it]\u001b[A\n",
            " 24%|██▍       | 8/33 [00:11<00:33,  1.33s/it]\u001b[A\n",
            " 27%|██▋       | 9/33 [00:12<00:31,  1.33s/it]\u001b[A\n",
            " 30%|███       | 10/33 [00:13<00:30,  1.31s/it]\u001b[A\n",
            " 33%|███▎      | 11/33 [00:15<00:28,  1.30s/it]\u001b[A\n",
            " 36%|███▋      | 12/33 [00:16<00:27,  1.30s/it]\u001b[A\n",
            " 39%|███▉      | 13/33 [00:17<00:25,  1.29s/it]\u001b[A\n",
            " 42%|████▏     | 14/33 [00:18<00:24,  1.29s/it]\u001b[A\n",
            " 45%|████▌     | 15/33 [00:20<00:23,  1.29s/it]\u001b[A\n",
            " 48%|████▊     | 16/33 [00:21<00:21,  1.29s/it]\u001b[A\n",
            " 52%|█████▏    | 17/33 [00:22<00:20,  1.28s/it]\u001b[A\n",
            " 55%|█████▍    | 18/33 [00:24<00:19,  1.30s/it]\u001b[A\n",
            " 58%|█████▊    | 19/33 [00:25<00:18,  1.31s/it]\u001b[A\n",
            " 61%|██████    | 20/33 [00:26<00:17,  1.31s/it]\u001b[A\n",
            " 64%|██████▎   | 21/33 [00:28<00:15,  1.31s/it]\u001b[A\n",
            " 67%|██████▋   | 22/33 [00:29<00:14,  1.30s/it]\u001b[A\n",
            " 70%|██████▉   | 23/33 [00:30<00:12,  1.30s/it]\u001b[A\n",
            " 73%|███████▎  | 24/33 [00:31<00:11,  1.29s/it]\u001b[A\n",
            " 76%|███████▌  | 25/33 [00:33<00:10,  1.29s/it]\u001b[A\n",
            " 79%|███████▉  | 26/33 [00:34<00:08,  1.28s/it]\u001b[A\n",
            " 82%|████████▏ | 27/33 [00:35<00:07,  1.27s/it]\u001b[A\n",
            " 85%|████████▍ | 28/33 [00:36<00:06,  1.27s/it]\u001b[A\n",
            " 88%|████████▊ | 29/33 [00:38<00:05,  1.27s/it]\u001b[A\n",
            " 91%|█████████ | 30/33 [00:39<00:03,  1.28s/it]\u001b[A\n",
            " 94%|█████████▍| 31/33 [00:40<00:02,  1.29s/it]\u001b[A\n",
            " 97%|█████████▋| 32/33 [00:42<00:01,  1.29s/it]\u001b[A\n",
            "100%|██████████| 33/33 [00:42<00:00,  1.29s/it]\n"
          ]
        },
        {
          "output_type": "stream",
          "name": "stdout",
          "text": [
            "train Loss: 0.0907 Acc: 14.9697 f1_total: 0.9488\n",
            "lr = 2.5390625000000003e-06\n"
          ]
        },
        {
          "output_type": "stream",
          "name": "stderr",
          "text": [
            "\n",
            "  0%|          | 0/2 [00:00<?, ?it/s]\u001b[A\n",
            " 50%|█████     | 1/2 [00:00<00:00,  1.08it/s]\u001b[A\n",
            "100%|██████████| 2/2 [00:01<00:00,  1.22it/s]\n"
          ]
        },
        {
          "output_type": "stream",
          "name": "stdout",
          "text": [
            "val Loss: 0.1349 Acc: 13.5000 f1_total: 0.9444\n",
            "lr = 2.5390625000000003e-06\n",
            "Новая лучшая модель!\n"
          ]
        },
        {
          "output_type": "stream",
          "name": "stderr",
          "text": [
            "\r 95%|█████████▌| 19/20 [14:08<00:44, 44.71s/it]"
          ]
        },
        {
          "output_type": "stream",
          "name": "stdout",
          "text": [
            "\n",
            "Epoch 19/19\n",
            "--------------------\n"
          ]
        },
        {
          "output_type": "stream",
          "name": "stderr",
          "text": [
            "\n",
            "  0%|          | 0/33 [00:00<?, ?it/s]\u001b[A\n",
            "  3%|▎         | 1/33 [00:02<01:04,  2.03s/it]\u001b[A\n",
            "  6%|▌         | 2/33 [00:03<00:49,  1.59s/it]\u001b[A\n",
            "  9%|▉         | 3/33 [00:04<00:43,  1.44s/it]\u001b[A\n",
            " 12%|█▏        | 4/33 [00:05<00:39,  1.38s/it]\u001b[A\n",
            " 15%|█▌        | 5/33 [00:07<00:37,  1.34s/it]\u001b[A\n",
            " 18%|█▊        | 6/33 [00:08<00:35,  1.33s/it]\u001b[A\n",
            " 21%|██        | 7/33 [00:09<00:34,  1.33s/it]\u001b[A\n",
            " 24%|██▍       | 8/33 [00:11<00:32,  1.32s/it]\u001b[A\n",
            " 27%|██▋       | 9/33 [00:12<00:31,  1.33s/it]\u001b[A\n",
            " 30%|███       | 10/33 [00:13<00:30,  1.32s/it]\u001b[A\n",
            " 33%|███▎      | 11/33 [00:14<00:28,  1.31s/it]\u001b[A\n",
            " 36%|███▋      | 12/33 [00:16<00:27,  1.30s/it]\u001b[A\n",
            " 39%|███▉      | 13/33 [00:17<00:25,  1.30s/it]\u001b[A\n",
            " 42%|████▏     | 14/33 [00:18<00:24,  1.30s/it]\u001b[A\n",
            " 45%|████▌     | 15/33 [00:20<00:23,  1.30s/it]\u001b[A\n",
            " 48%|████▊     | 16/33 [00:21<00:22,  1.35s/it]\u001b[A\n",
            " 52%|█████▏    | 17/33 [00:22<00:21,  1.34s/it]\u001b[A\n",
            " 55%|█████▍    | 18/33 [00:24<00:20,  1.38s/it]\u001b[A\n",
            " 58%|█████▊    | 19/33 [00:25<00:19,  1.41s/it]\u001b[A\n",
            " 61%|██████    | 20/33 [00:27<00:19,  1.48s/it]\u001b[A\n",
            " 64%|██████▎   | 21/33 [00:29<00:17,  1.47s/it]\u001b[A\n",
            " 67%|██████▋   | 22/33 [00:30<00:15,  1.43s/it]\u001b[A\n",
            " 70%|██████▉   | 23/33 [00:31<00:13,  1.38s/it]\u001b[A\n",
            " 73%|███████▎  | 24/33 [00:32<00:12,  1.35s/it]\u001b[A\n",
            " 76%|███████▌  | 25/33 [00:34<00:10,  1.32s/it]\u001b[A\n",
            " 79%|███████▉  | 26/33 [00:35<00:09,  1.31s/it]\u001b[A\n",
            " 82%|████████▏ | 27/33 [00:36<00:07,  1.29s/it]\u001b[A\n",
            " 85%|████████▍ | 28/33 [00:37<00:06,  1.28s/it]\u001b[A\n",
            " 88%|████████▊ | 29/33 [00:39<00:05,  1.28s/it]\u001b[A\n",
            " 91%|█████████ | 30/33 [00:40<00:03,  1.30s/it]\u001b[A\n",
            " 94%|█████████▍| 31/33 [00:41<00:02,  1.30s/it]\u001b[A\n",
            " 97%|█████████▋| 32/33 [00:43<00:01,  1.30s/it]\u001b[A\n",
            "100%|██████████| 33/33 [00:43<00:00,  1.33s/it]\n"
          ]
        },
        {
          "output_type": "stream",
          "name": "stdout",
          "text": [
            "train Loss: 0.1408 Acc: 15.0000 f1_total: 0.9362\n",
            "lr = 0.0\n"
          ]
        },
        {
          "output_type": "stream",
          "name": "stderr",
          "text": [
            "\n",
            "  0%|          | 0/2 [00:00<?, ?it/s]\u001b[A\n",
            " 50%|█████     | 1/2 [00:00<00:00,  1.07it/s]\u001b[A\n",
            "100%|██████████| 2/2 [00:01<00:00,  1.23it/s]\n",
            "100%|██████████| 20/20 [14:54<00:00, 44.70s/it]"
          ]
        },
        {
          "output_type": "stream",
          "name": "stdout",
          "text": [
            "val Loss: 0.1267 Acc: 13.0000 f1_total: 0.9087\n",
            "lr = 0.0\n",
            "\n",
            "Training complete in 14m 54s\n",
            "Best val Acc: 0.000000\n"
          ]
        },
        {
          "output_type": "stream",
          "name": "stderr",
          "text": [
            "\n"
          ]
        }
      ]
    },
    {
      "cell_type": "code",
      "source": [
        "torch.cuda.empty_cache()"
      ],
      "metadata": {
        "id": "0DePKxZn3enr"
      },
      "execution_count": 56,
      "outputs": []
    },
    {
      "cell_type": "code",
      "source": [],
      "metadata": {
        "id": "XczffuHNWrT8"
      },
      "execution_count": null,
      "outputs": []
    },
    {
      "cell_type": "markdown",
      "source": [
        "# Графики"
      ],
      "metadata": {
        "id": "HsLKIYQ_sxTq"
      }
    },
    {
      "cell_type": "code",
      "source": [
        "metrics['epoch_f1_total_val_list']"
      ],
      "metadata": {
        "colab": {
          "base_uri": "https://localhost:8080/"
        },
        "id": "IDoKPVkEMYJK",
        "outputId": "78964f06-c9c9-40da-cbe1-3a64fea12893"
      },
      "execution_count": 57,
      "outputs": [
        {
          "output_type": "execute_result",
          "data": {
            "text/plain": [
              "[0.05870445258915424,\n",
              " 0.08823529724031687,\n",
              " 0.18225108459591866,\n",
              " 0.3635416701436043,\n",
              " 0.5339285731315613,\n",
              " 0.8108585774898529,\n",
              " 0.7929924130439758,\n",
              " 0.8008928894996643,\n",
              " 0.7344697117805481,\n",
              " 0.7629419267177582,\n",
              " 0.8847222328186035,\n",
              " 0.7307539582252502,\n",
              " 0.8442911505699158,\n",
              " 0.8695887923240662,\n",
              " 0.8695887625217438,\n",
              " 0.873391717672348,\n",
              " 0.8745039701461792,\n",
              " 0.9008928537368774,\n",
              " 0.9444444477558136,\n",
              " 0.908730149269104]"
            ]
          },
          "metadata": {},
          "execution_count": 57
        }
      ]
    },
    {
      "cell_type": "code",
      "execution_count": 58,
      "metadata": {
        "id": "38HKB9HLAc56"
      },
      "outputs": [],
      "source": [
        "epoch_f1_total_train_list = metrics['epoch_f1_total_train_list']\n",
        "epoch_f1_total_val_list = metrics['epoch_f1_total_val_list']\n",
        "epoch_f1_total_test_list = metrics['epoch_f1_total_test_list']"
      ]
    },
    {
      "cell_type": "code",
      "execution_count": 70,
      "metadata": {
        "colab": {
          "base_uri": "https://localhost:8080/"
        },
        "id": "6056debc-e97a-44f5-8bdb-042a274ac1fa",
        "outputId": "d7cc4c4a-feb5-4150-fdf3-ca12e446a90a"
      },
      "outputs": [
        {
          "output_type": "execute_result",
          "data": {
            "text/plain": [
              "0.9444444477558136"
            ]
          },
          "metadata": {},
          "execution_count": 70
        }
      ],
      "source": [
        "# максимальное значение метрики на валидации\n",
        "best_epoch = np.argmax(epoch_f1_total_val_list)\n",
        "best_f1_total = np.max(epoch_f1_total_val_list)\n",
        "best_f1_total"
      ]
    },
    {
      "cell_type": "code",
      "execution_count": 79,
      "metadata": {
        "colab": {
          "base_uri": "https://localhost:8080/",
          "height": 469
        },
        "id": "a22120ef-55eb-466a-8a5b-c0d31a241a4d",
        "outputId": "56caeab5-7867-425b-8ecb-d77949b618fd"
      },
      "outputs": [
        {
          "output_type": "display_data",
          "data": {
            "text/plain": [
              "<Figure size 500x500 with 1 Axes>"
            ],
            "image/png": "[encoded data removed]"
          },
          "metadata": {}
        }
      ],
      "source": [
        "plt.figure(figsize=(5,5))\n",
        "plt.plot(np.arange(0, num_epochs), metrics['epoch_loss_train_list'], label='train_loss')\n",
        "plt.plot(np.arange(0, num_epochs), metrics['epoch_loss_val_list'], label='val_loss')\n",
        "# plt.plot(np.arange(0, num_epochs), metrics['epoch_loss_test_list'], label='test_loss')\n",
        "plt.xticks(np.arange(0, num_epochs, 1))\n",
        "plt.xlabel('Эпоха')\n",
        "plt.ylabel('Лосс')\n",
        "plt.grid()\n",
        "plt.legend()\n",
        "plt.show()"
      ]
    },
    {
      "cell_type": "code",
      "execution_count": 80,
      "metadata": {
        "colab": {
          "base_uri": "https://localhost:8080/",
          "height": 469
        },
        "id": "f02324cc-f610-4fc6-b538-56dffa1110c3",
        "outputId": "4a66ed00-364e-41e6-af81-c53c549fe574"
      },
      "outputs": [
        {
          "output_type": "display_data",
          "data": {
            "text/plain": [
              "<Figure size 500x500 with 1 Axes>"
            ],
            "image/png": "[encoded data removed]"
          },
          "metadata": {}
        }
      ],
      "source": [
        "plt.figure(figsize=(5,5))\n",
        "plt.plot(np.arange(0, num_epochs), epoch_f1_total_train_list, label='train_f1_total')\n",
        "plt.plot(np.arange(0, num_epochs), epoch_f1_total_val_list, label='val_f1_total')\n",
        "# plt.plot(np.arange(0, num_epochs), epoch_f1_total_test_list, label='test_f1_total')\n",
        "plt.xticks(np.arange(0, num_epochs, 1))\n",
        "plt.xlabel('Эпоха')\n",
        "plt.ylabel('f1_total')\n",
        "plt.grid()\n",
        "plt.legend()\n",
        "plt.show()"
      ]
    },
    {
      "cell_type": "code",
      "execution_count": 81,
      "metadata": {
        "id": "60824249-2b83-483e-8991-019f96afd5b8",
        "colab": {
          "base_uri": "https://localhost:8080/",
          "height": 465
        },
        "outputId": "b994cbf5-bc12-46ee-cd93-09a156a3aacc"
      },
      "outputs": [
        {
          "output_type": "display_data",
          "data": {
            "text/plain": [
              "<Figure size 500x500 with 1 Axes>"
            ],
            "image/png": "[encoded data removed]"
          },
          "metadata": {}
        }
      ],
      "source": [
        "plt.figure(figsize=(5,5))\n",
        "# plt.plot(np.arange(0, num_epochs), metrics['epoch_f1_train_list'], label='train_f1')\n",
        "plt.plot(np.arange(0, num_epochs), metrics['epoch_f1_val_list'], 'o-', label='val_f1')\n",
        "plt.xticks(np.arange(0, num_epochs, 1))\n",
        "plt.xlabel('Эпоха')\n",
        "plt.ylabel('f1_total по классам')\n",
        "plt.grid()\n",
        "plt.legend()\n",
        "plt.show()"
      ]
    },
    {
      "cell_type": "code",
      "source": [],
      "metadata": {
        "id": "9uDj5FREcjDV"
      },
      "execution_count": null,
      "outputs": []
    },
    {
      "cell_type": "markdown",
      "source": [
        "# Инференс"
      ],
      "metadata": {
        "id": "TXCGA-FcYMnn"
      }
    },
    {
      "cell_type": "code",
      "execution_count": 67,
      "metadata": {
        "id": "646a141d-5c29-4217-adc0-d88892d26be5",
        "colab": {
          "base_uri": "https://localhost:8080/"
        },
        "outputId": "10a27480-c52d-4ee2-d557-7a6bc2a78279"
      },
      "outputs": [
        {
          "output_type": "execute_result",
          "data": {
            "text/plain": [
              "{0: 'bridge_down', 1: 'bridge_up', 2: 'no_action', 3: 'train_in_out'}"
            ]
          },
          "metadata": {},
          "execution_count": 67
        }
      ],
      "source": [
        "int_to_class_name = {class_name_to_int[key] : key for key in class_name_to_int.keys()}\n",
        "int_to_class_name"
      ]
    },
    {
      "cell_type": "code",
      "execution_count": 68,
      "metadata": {
        "id": "b9223378-ac5e-42c6-8b50-cabe3471b5c1",
        "colab": {
          "base_uri": "https://localhost:8080/",
          "height": 206
        },
        "outputId": "150eea4a-2d1d-4701-e8e1-8474e19a1fd6"
      },
      "outputs": [
        {
          "output_type": "execute_result",
          "data": {
            "text/plain": [
              "            label                 fname  label_int\n",
              "491  train_in_out  250454b3ddcbc06a.mp4          3\n",
              "492  train_in_out  ccc5f58aa6de100b.mp4          3\n",
              "493  train_in_out  c1023971326eb67e.mp4          3\n",
              "494  train_in_out  6a810498689fad59.mp4          3\n",
              "495  train_in_out  fe8f774e99637f63.mp4          3"
            ],
            "text/html": [
              "\n",
              "  <div id=\"df-97782c7c-f5fe-47d4-9f9f-98981561229b\" class=\"colab-df-container\">\n",
              "    <div>\n",
              "<style scoped>\n",
              "    .dataframe tbody tr th:only-of-type {\n",
              "        vertical-align: middle;\n",
              "    }\n",
              "\n",
              "    .dataframe tbody tr th {\n",
              "        vertical-align: top;\n",
              "    }\n",
              "\n",
              "    .dataframe thead th {\n",
              "        text-align: right;\n",
              "    }\n",
              "</style>\n",
              "<table border=\"1\" class=\"dataframe\">\n",
              "  <thead>\n",
              "    <tr style=\"text-align: right;\">\n",
              "      <th></th>\n",
              "      <th>label</th>\n",
              "      <th>fname</th>\n",
              "      <th>label_int</th>\n",
              "    </tr>\n",
              "  </thead>\n",
              "  <tbody>\n",
              "    <tr>\n",
              "      <th>491</th>\n",
              "      <td>train_in_out</td>\n",
              "      <td>250454b3ddcbc06a.mp4</td>\n",
              "      <td>3</td>\n",
              "    </tr>\n",
              "    <tr>\n",
              "      <th>492</th>\n",
              "      <td>train_in_out</td>\n",
              "      <td>ccc5f58aa6de100b.mp4</td>\n",
              "      <td>3</td>\n",
              "    </tr>\n",
              "    <tr>\n",
              "      <th>493</th>\n",
              "      <td>train_in_out</td>\n",
              "      <td>c1023971326eb67e.mp4</td>\n",
              "      <td>3</td>\n",
              "    </tr>\n",
              "    <tr>\n",
              "      <th>494</th>\n",
              "      <td>train_in_out</td>\n",
              "      <td>6a810498689fad59.mp4</td>\n",
              "      <td>3</td>\n",
              "    </tr>\n",
              "    <tr>\n",
              "      <th>495</th>\n",
              "      <td>train_in_out</td>\n",
              "      <td>fe8f774e99637f63.mp4</td>\n",
              "      <td>3</td>\n",
              "    </tr>\n",
              "  </tbody>\n",
              "</table>\n",
              "</div>\n",
              "    <div class=\"colab-df-buttons\">\n",
              "\n",
              "  <div class=\"colab-df-container\">\n",
              "    <button class=\"colab-df-convert\" onclick=\"convertToInteractive('df-97782c7c-f5fe-47d4-9f9f-98981561229b')\"\n",
              "            title=\"Convert this dataframe to an interactive table.\"\n",
              "            style=\"display:none;\">\n",
              "\n",
              "  <svg xmlns=\"http://www.w3.org/2000/svg\" height=\"24px\" viewBox=\"0 -960 960 960\">\n",
              "    <path d=\"M120-120v-720h720v720H120Zm60-500h600v-160H180v160Zm220 220h160v-160H400v160Zm0 220h160v-160H400v160ZM180-400h160v-160H180v160Zm440 0h160v-160H620v160ZM180-180h160v-160H180v160Zm440 0h160v-160H620v160Z\"/>\n",
              "  </svg>\n",
              "    </button>\n",
              "\n",
              "  <style>\n",
              "    .colab-df-container {\n",
              "      display:flex;\n",
              "      gap: 12px;\n",
              "    }\n",
              "\n",
              "    .colab-df-convert {\n",
              "      background-color: #E8F0FE;\n",
              "      border: none;\n",
              "      border-radius: 50%;\n",
              "      cursor: pointer;\n",
              "      display: none;\n",
              "      fill: #1967D2;\n",
              "      height: 32px;\n",
              "      padding: 0 0 0 0;\n",
              "      width: 32px;\n",
              "    }\n",
              "\n",
              "    .colab-df-convert:hover {\n",
              "      background-color: #E2EBFA;\n",
              "      box-shadow: 0px 1px 2px rgba(60, 64, 67, 0.3), 0px 1px 3px 1px rgba(60, 64, 67, 0.15);\n",
              "      fill: #174EA6;\n",
              "    }\n",
              "\n",
              "    .colab-df-buttons div {\n",
              "      margin-bottom: 4px;\n",
              "    }\n",
              "\n",
              "    [theme=dark] .colab-df-convert {\n",
              "      background-color: #3B4455;\n",
              "      fill: #D2E3FC;\n",
              "    }\n",
              "\n",
              "    [theme=dark] .colab-df-convert:hover {\n",
              "      background-color: #434B5C;\n",
              "      box-shadow: 0px 1px 3px 1px rgba(0, 0, 0, 0.15);\n",
              "      filter: drop-shadow(0px 1px 2px rgba(0, 0, 0, 0.3));\n",
              "      fill: #FFFFFF;\n",
              "    }\n",
              "  </style>\n",
              "\n",
              "    <script>\n",
              "      const buttonEl =\n",
              "        document.querySelector('#df-97782c7c-f5fe-47d4-9f9f-98981561229b button.colab-df-convert');\n",
              "      buttonEl.style.display =\n",
              "        google.colab.kernel.accessAllowed ? 'block' : 'none';\n",
              "\n",
              "      async function convertToInteractive(key) {\n",
              "        const element = document.querySelector('#df-97782c7c-f5fe-47d4-9f9f-98981561229b');\n",
              "        const dataTable =\n",
              "          await google.colab.kernel.invokeFunction('convertToInteractive',\n",
              "                                                    [key], {});\n",
              "        if (!dataTable) return;\n",
              "\n",
              "        const docLinkHtml = 'Like what you see? Visit the ' +\n",
              "          '<a target=\"_blank\" href=https://colab.research.google.com/notebooks/data_table.ipynb>data table notebook</a>'\n",
              "          + ' to learn more about interactive tables.';\n",
              "        element.innerHTML = '';\n",
              "        dataTable['output_type'] = 'display_data';\n",
              "        await google.colab.output.renderOutput(dataTable, element);\n",
              "        const docLink = document.createElement('div');\n",
              "        docLink.innerHTML = docLinkHtml;\n",
              "        element.appendChild(docLink);\n",
              "      }\n",
              "    </script>\n",
              "  </div>\n",
              "\n",
              "\n",
              "<div id=\"df-e6af0b09-9b7f-4c48-b8c8-4b692fbe4ef3\">\n",
              "  <button class=\"colab-df-quickchart\" onclick=\"quickchart('df-e6af0b09-9b7f-4c48-b8c8-4b692fbe4ef3')\"\n",
              "            title=\"Suggest charts\"\n",
              "            style=\"display:none;\">\n",
              "\n",
              "<svg xmlns=\"http://www.w3.org/2000/svg\" height=\"24px\"viewBox=\"0 0 24 24\"\n",
              "     width=\"24px\">\n",
              "    <g>\n",
              "        <path d=\"M19 3H5c-1.1 0-2 .9-2 2v14c0 1.1.9 2 2 2h14c1.1 0 2-.9 2-2V5c0-1.1-.9-2-2-2zM9 17H7v-7h2v7zm4 0h-2V7h2v10zm4 0h-2v-4h2v4z\"/>\n",
              "    </g>\n",
              "</svg>\n",
              "  </button>\n",
              "\n",
              "<style>\n",
              "  .colab-df-quickchart {\n",
              "      --bg-color: #E8F0FE;\n",
              "      --fill-color: #1967D2;\n",
              "      --hover-bg-color: #E2EBFA;\n",
              "      --hover-fill-color: #174EA6;\n",
              "      --disabled-fill-color: #AAA;\n",
              "      --disabled-bg-color: #DDD;\n",
              "  }\n",
              "\n",
              "  [theme=dark] .colab-df-quickchart {\n",
              "      --bg-color: #3B4455;\n",
              "      --fill-color: #D2E3FC;\n",
              "      --hover-bg-color: #434B5C;\n",
              "      --hover-fill-color: #FFFFFF;\n",
              "      --disabled-bg-color: #3B4455;\n",
              "      --disabled-fill-color: #666;\n",
              "  }\n",
              "\n",
              "  .colab-df-quickchart {\n",
              "    background-color: var(--bg-color);\n",
              "    border: none;\n",
              "    border-radius: 50%;\n",
              "    cursor: pointer;\n",
              "    display: none;\n",
              "    fill: var(--fill-color);\n",
              "    height: 32px;\n",
              "    padding: 0;\n",
              "    width: 32px;\n",
              "  }\n",
              "\n",
              "  .colab-df-quickchart:hover {\n",
              "    background-color: var(--hover-bg-color);\n",
              "    box-shadow: 0 1px 2px rgba(60, 64, 67, 0.3), 0 1px 3px 1px rgba(60, 64, 67, 0.15);\n",
              "    fill: var(--button-hover-fill-color);\n",
              "  }\n",
              "\n",
              "  .colab-df-quickchart-complete:disabled,\n",
              "  .colab-df-quickchart-complete:disabled:hover {\n",
              "    background-color: var(--disabled-bg-color);\n",
              "    fill: var(--disabled-fill-color);\n",
              "    box-shadow: none;\n",
              "  }\n",
              "\n",
              "  .colab-df-spinner {\n",
              "    border: 2px solid var(--fill-color);\n",
              "    border-color: transparent;\n",
              "    border-bottom-color: var(--fill-color);\n",
              "    animation:\n",
              "      spin 1s steps(1) infinite;\n",
              "  }\n",
              "\n",
              "  @keyframes spin {\n",
              "    0% {\n",
              "      border-color: transparent;\n",
              "      border-bottom-color: var(--fill-color);\n",
              "      border-left-color: var(--fill-color);\n",
              "    }\n",
              "    20% {\n",
              "      border-color: transparent;\n",
              "      border-left-color: var(--fill-color);\n",
              "      border-top-color: var(--fill-color);\n",
              "    }\n",
              "    30% {\n",
              "      border-color: transparent;\n",
              "      border-left-color: var(--fill-color);\n",
              "      border-top-color: var(--fill-color);\n",
              "      border-right-color: var(--fill-color);\n",
              "    }\n",
              "    40% {\n",
              "      border-color: transparent;\n",
              "      border-right-color: var(--fill-color);\n",
              "      border-top-color: var(--fill-color);\n",
              "    }\n",
              "    60% {\n",
              "      border-color: transparent;\n",
              "      border-right-color: var(--fill-color);\n",
              "    }\n",
              "    80% {\n",
              "      border-color: transparent;\n",
              "      border-right-color: var(--fill-color);\n",
              "      border-bottom-color: var(--fill-color);\n",
              "    }\n",
              "    90% {\n",
              "      border-color: transparent;\n",
              "      border-bottom-color: var(--fill-color);\n",
              "    }\n",
              "  }\n",
              "</style>\n",
              "\n",
              "  <script>\n",
              "    async function quickchart(key) {\n",
              "      const quickchartButtonEl =\n",
              "        document.querySelector('#' + key + ' button');\n",
              "      quickchartButtonEl.disabled = true;  // To prevent multiple clicks.\n",
              "      quickchartButtonEl.classList.add('colab-df-spinner');\n",
              "      try {\n",
              "        const charts = await google.colab.kernel.invokeFunction(\n",
              "            'suggestCharts', [key], {});\n",
              "      } catch (error) {\n",
              "        console.error('Error during call to suggestCharts:', error);\n",
              "      }\n",
              "      quickchartButtonEl.classList.remove('colab-df-spinner');\n",
              "      quickchartButtonEl.classList.add('colab-df-quickchart-complete');\n",
              "    }\n",
              "    (() => {\n",
              "      let quickchartButtonEl =\n",
              "        document.querySelector('#df-e6af0b09-9b7f-4c48-b8c8-4b692fbe4ef3 button');\n",
              "      quickchartButtonEl.style.display =\n",
              "        google.colab.kernel.accessAllowed ? 'block' : 'none';\n",
              "    })();\n",
              "  </script>\n",
              "</div>\n",
              "    </div>\n",
              "  </div>\n"
            ]
          },
          "metadata": {},
          "execution_count": 68
        }
      ],
      "source": [
        "clips_data.tail()"
      ]
    },
    {
      "cell_type": "code",
      "execution_count": 71,
      "metadata": {
        "id": "0gBexsfHQ4G5"
      },
      "outputs": [],
      "source": [
        "index = 494\n",
        "clip = read_clip(DATA_DIR.joinpath(\"train\", clips_data['label'].loc[index]), clips_data['fname'].loc[index], transposed=True) # клип - несколько изображений"
      ]
    },
    {
      "cell_type": "code",
      "execution_count": 73,
      "metadata": {
        "id": "jgVCpw50Q4JD",
        "colab": {
          "base_uri": "https://localhost:8080/",
          "height": 88
        },
        "outputId": "56f8f31d-cd0f-48ef-ffbd-b62723ab993e"
      },
      "outputs": [
        {
          "output_type": "stream",
          "name": "stdout",
          "text": [
            "torch.Size([1, 3, 16, 224, 224])\n",
            "CPU times: user 378 ms, sys: 48.8 ms, total: 427 ms\n",
            "Wall time: 755 ms\n"
          ]
        },
        {
          "output_type": "execute_result",
          "data": {
            "text/plain": [
              "'train_in_out'"
            ],
            "application/vnd.google.colaboratory.intrinsic+json": {
              "type": "string"
            }
          },
          "metadata": {},
          "execution_count": 73
        }
      ],
      "source": [
        "%%time\n",
        "model_type == 'torch'\n",
        "\n",
        "import tensorflow as tf\n",
        "if model_type == 'torch':\n",
        "    from torchvision.models.video import MViT_V2_S_Weights\n",
        "if model_type == 'transformers':\n",
        "    from transformers import VideoMAEImageProcessor\n",
        "\n",
        "\n",
        "path = f'epoch_{best_epoch}.pt'\n",
        "torch.set_num_threads(4)\n",
        "int_to_class_name = {0: 'bridge_down', 1: 'bridge_up', 2: 'no_action', 3: 'train_in_out'}\n",
        "\n",
        "if model_type == 'torch':\n",
        "    weights = MViT_V2_S_Weights.DEFAULT\n",
        "    processor = weights.transforms()\n",
        "if model_type == 'transformers':\n",
        "    processor = VideoMAEImageProcessor.from_pretrained(\"MCG-NJU/videomae-base-finetuned-kinetics\")\n",
        "\n",
        "def predict(clip: np.ndarray):\n",
        "    \"\"\"Вычислить класс для этого клипа. Эта функция должна возвращать *имя* класса.\"\"\"\n",
        "\n",
        "    n_frames = 16 # сколько кадров сохранить с клипа\n",
        "\n",
        "    if n_frames > len(clip):\n",
        "        while True:\n",
        "            clip = np.concatenate([clip, clip[-1][None, ...]])\n",
        "            if len(clip) == n_frames:\n",
        "                break\n",
        "    else:\n",
        "        clip = clip[0:len(clip):round(len(clip) / n_frames)]\n",
        "        if len(clip) == n_frames + 1:\n",
        "          clip = clip[:-1]\n",
        "        if len(clip) == n_frames - 1:\n",
        "          clip = np.concatenate([clip, clip[-1][None, ...]])\n",
        "\n",
        "    if n_frames < len(clip):\n",
        "      while True:\n",
        "        clip = clip[:-1]\n",
        "        if len(clip) == n_frames:\n",
        "            break\n",
        "\n",
        "    if model_type == 'torch':\n",
        "        inputs = processor(torch.Tensor(clip)).unsqueeze(0)\n",
        "        print(inputs.shape)\n",
        "    if model_type == 'transformers':\n",
        "        clip = [torch.Tensor(image) for image in clip]\n",
        "        inputs = processor(clip, return_tensors=\"pt\")\n",
        "    model = torch.load(path, map_location=torch.device('cpu'))\n",
        "    device = 'cuda'\n",
        "    inputs = inputs.to(device)\n",
        "    model = model.to(device)\n",
        "    if model_type == 'torch':\n",
        "      with torch.no_grad():\n",
        "          logits = model(inputs)\n",
        "          preds = tf.nn.softmax(logits.cpu().detach().numpy())\n",
        "          predicted_class_idx = np.argmax(preds[0])\n",
        "    if model_type == 'transformers':\n",
        "      with torch.no_grad():\n",
        "          outputs = model(**inputs)\n",
        "          logits = outputs.logits\n",
        "          predicted_class_idx = logits.argmax(-1).item()\n",
        "    class_name = int_to_class_name[int(predicted_class_idx)]\n",
        "    return class_name\n",
        "\n",
        "\n",
        "predict(clip)"
      ]
    },
    {
      "cell_type": "code",
      "source": [],
      "metadata": {
        "id": "otEknIW7p5O_"
      },
      "execution_count": null,
      "outputs": []
    }
  ]
}